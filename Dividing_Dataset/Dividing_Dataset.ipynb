{
 "cells": [
  {
   "cell_type": "code",
   "execution_count": 9,
   "metadata": {},
   "outputs": [],
   "source": [
    "import pandas as pd"
   ]
  },
  {
   "cell_type": "code",
   "execution_count": 11,
   "metadata": {},
   "outputs": [
    {
     "name": "stderr",
     "output_type": "stream",
     "text": [
      "/var/folders/jq/f31p5js52f51prlhxvhddy2w0000gn/T/ipykernel_36741/2849662462.py:3: DtypeWarning: Columns (15,17) have mixed types. Specify dtype option on import or set low_memory=False.\n",
      "  df = pd.read_csv(file_path)\n"
     ]
    }
   ],
   "source": [
    "# Load the entire CSV file\n",
    "file_path = '/Users/nuhash/Desktop/Code/Thesis/Dataset/philly_2006_2023.csv'  # Update this path\n",
    "df = pd.read_csv(file_path)\n",
    "\n",
    "# Calculate chunk sizes\n",
    "total_rows = len(df)\n",
    "chunk_25_percent = total_rows // 4\n",
    "chunk_50_percent = total_rows // 2\n",
    "chunk_75_percent = 3 * total_rows // 4\n",
    "\n",
    "# Create DataFrames for each chunk\n",
    "df_25_percent = df.iloc[:chunk_25_percent]\n",
    "df_50_percent = df.iloc[:chunk_50_percent]\n",
    "df_75_percent = df.iloc[:chunk_75_percent]\n",
    "df_100_percent = df  # This is just the original DataFrame\n",
    "\n",
    "# Save each DataFrame to a new CSV file\n",
    "df_25_percent.to_csv('/Users/nuhash/Desktop/25_percent.csv', index=False)\n",
    "df_50_percent.to_csv('/Users/nuhash/Desktop/50_percent.csv', index=False)\n",
    "df_75_percent.to_csv('/Users/nuhash/Desktop/75_percent.csv', index=False)\n",
    "df_100_percent.to_csv('/Users/nuhash/Desktop/100_percent.csv', index=False)\n"
   ]
  }
 ],
 "metadata": {
  "kernelspec": {
   "display_name": "base",
   "language": "python",
   "name": "python3"
  },
  "language_info": {
   "codemirror_mode": {
    "name": "ipython",
    "version": 3
   },
   "file_extension": ".py",
   "mimetype": "text/x-python",
   "name": "python",
   "nbconvert_exporter": "python",
   "pygments_lexer": "ipython3",
   "version": "3.11.5"
  }
 },
 "nbformat": 4,
 "nbformat_minor": 2
}
