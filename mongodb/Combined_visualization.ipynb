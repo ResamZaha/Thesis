{
 "cells": [
  {
   "cell_type": "code",
   "execution_count": 1,
   "metadata": {},
   "outputs": [],
   "source": [
    "# For data processing\n",
    "import numpy as np\n",
    "from math import sqrt\n",
    "# For data processing and manipulation\n",
    "import pandas as pd\n",
    "import csv\n",
    " \n",
    "# For date calculations\n",
    "import datetime\n",
    "import time\n",
    " \n",
    "# For ploting data\n",
    "import IPython\n",
    "import IPython.display\n",
    " \n",
    "import itertools\n",
    "from itertools import cycle\n",
    "import matplotlib as mpl\n",
    "import matplotlib.pyplot as plt\n",
    "import seaborn as sns\n",
    "%matplotlib inline\n",
    " \n",
    "# For checking path\n",
    "import os , gc\n",
    "from os import path\n",
    "import csv\n",
    "import json\n",
    "import requests"
   ]
  },
  {
   "cell_type": "code",
   "execution_count": 2,
   "metadata": {},
   "outputs": [
    {
     "name": "stdout",
     "output_type": "stream",
     "text": [
      "['crime.chicago', 'weather.chicago', 'crime.sf', 'weather.sf']\n"
     ]
    }
   ],
   "source": [
    "from pymongo import MongoClient\n",
    "import time\n",
    "# pprint library is used to make the output look more pretty\n",
    "'''\n",
    "Should move db code to other file\n",
    "'''\n",
    "# connect to MongoDB, change the << MONGODB URL >> to reflect your own connection string\n",
    "client = MongoClient(port=27017)\n",
    "db = client.test\n",
    "print(db.list_collection_names()) "
   ]
  },
  {
   "cell_type": "markdown",
   "metadata": {},
   "source": [
    "<h2><b> join weathers by date, pressure difference </h2></b>"
   ]
  },
  {
   "cell_type": "code",
   "execution_count": 5,
   "metadata": {},
   "outputs": [
    {
     "name": "stdout",
     "output_type": "stream",
     "text": [
      "<pymongo.command_cursor.CommandCursor object at 0x177957710>\n",
      "Execution Time: 7.97 seconds\n"
     ]
    }
   ],
   "source": [
    "\n",
    "start_time = time.time()\n",
    "\n",
    "# MongoDB aggregation pipeline\n",
    "pipeline = [\n",
    "    {\n",
    "        \"$lookup\": {\n",
    "            \"from\": \"weather.sf\",\n",
    "            \"localField\": \"valid_date_time\",\n",
    "            \"foreignField\": \"valid_date_time\",\n",
    "            \"as\": \"sf_data\",\n",
    "        },\n",
    "    },\n",
    "    {\n",
    "        \"$unwind\": \"$sf_data\",\n",
    "    },\n",
    "    {\n",
    "        \"$project\": {\n",
    "            \"chicago_temp\": \"$temp\",\n",
    "            \"chicago_pressure\": \"$pressure\",\n",
    "            \"sf_temp\": \"$sf_data.temp\",\n",
    "            \"sf_pressure\": \"$sf_data.pressure\",\n",
    "            \"valid_date_time\": 1,\n",
    "        },\n",
    "    },\n",
    "    {\n",
    "        \"$addFields\": {\n",
    "            \"temp_difference\": {\n",
    "                \"$subtract\": [\"$chicago_temp\", \"$sf_temp\"]\n",
    "            },\n",
    "            \"pressure_difference\": {\n",
    "                \"$subtract\": [\"$chicago_pressure\", \"$sf_pressure\"]\n",
    "            }\n",
    "        }\n",
    "    }\n",
    "]\n",
    "\n",
    "# Execute the aggregation pipeline\n",
    "data = db.weather.chicago.aggregate(pipeline)\n",
    "print(data)\n",
    "# Collect the results into a list of dictionaries\n",
    "#results = list(data)\n",
    "\n",
    "# Record the end time\n",
    "end_time = time.time()\n",
    "execution_time = end_time - start_time\n",
    "\n",
    "# Create a DataFrame from the results\n",
    "#df = pd.DataFrame(results)\n",
    "\n",
    "# Print the DataFrame as a table\n",
    "#display(df)  # Use print(df) if not in a Jupyter notebook\n",
    "\n",
    "# Print execution time\n",
    "print(f\"Execution Time: {execution_time:.2f} seconds\")\n"
   ]
  },
  {
   "cell_type": "markdown",
   "metadata": {},
   "source": []
  },
  {
   "cell_type": "code",
   "execution_count": 8,
   "metadata": {},
   "outputs": [
    {
     "data": {
      "text/html": [
       "<div>\n",
       "<style scoped>\n",
       "    .dataframe tbody tr th:only-of-type {\n",
       "        vertical-align: middle;\n",
       "    }\n",
       "\n",
       "    .dataframe tbody tr th {\n",
       "        vertical-align: top;\n",
       "    }\n",
       "\n",
       "    .dataframe thead th {\n",
       "        text-align: right;\n",
       "    }\n",
       "</style>\n",
       "<table border=\"1\" class=\"dataframe\">\n",
       "  <thead>\n",
       "    <tr style=\"text-align: right;\">\n",
       "      <th></th>\n",
       "    </tr>\n",
       "  </thead>\n",
       "  <tbody>\n",
       "  </tbody>\n",
       "</table>\n",
       "</div>"
      ],
      "text/plain": [
       "Empty DataFrame\n",
       "Columns: []\n",
       "Index: []"
      ]
     },
     "metadata": {},
     "output_type": "display_data"
    },
    {
     "name": "stdout",
     "output_type": "stream",
     "text": [
      "Execution Time: 115.47 seconds\n"
     ]
    }
   ],
   "source": [
    "\n",
    "start_time = time.time()\n",
    "\n",
    "# MongoDB aggregation pipeline\n",
    "pipeline = [\n",
    "    {\n",
    "        \"$addFields\": {\n",
    "            \"formatted_datetime\": {\n",
    "                \"$dateFromString\": {\n",
    "                    \"dateString\": {\n",
    "                        \"$concat\": [\"$Date\", \" \", \"$Time\"]\n",
    "                    },\n",
    "                    \"format\": \"%m/%d/%Y %H:%M\" # Ensure this matches the format of 'Date' and 'Time' in 'crime.sf'\n",
    "                }\n",
    "            }\n",
    "        }\n",
    "    },\n",
    "    {\n",
    "        \"$lookup\": {\n",
    "            \"from\": \"crime.chicago\",\n",
    "            \"let\": {\"formatted_datetime\": \"$formatted_datetime\"}, # Corrected variable name\n",
    "            \"pipeline\": [\n",
    "                {\n",
    "                    \"$addFields\": {\n",
    "                        \"_date\": {\n",
    "                            \"$dateFromString\": {\n",
    "                                \"dateString\": \"$Date\",\n",
    "                                \"format\": \"%m/%d/%Y %I:%M:%S %p\" # Corrected format to match 'crime.chicago'\n",
    "                            }\n",
    "                        }\n",
    "                    }\n",
    "                },\n",
    "                {\n",
    "                    \"$match\": {\n",
    "                        \"$expr\": {\n",
    "                            \"$eq\": [\"$_date\", \"$$formatted_datetime\"] # Corrected variable reference\n",
    "                        }\n",
    "                    }\n",
    "                }\n",
    "            ],\n",
    "            \"as\": \"joined_data\"\n",
    "        }\n",
    "    },\n",
    "    {\n",
    "        \"$unwind\": \"$joined_data\"\n",
    "    },\n",
    "    {\n",
    "        \"$project\": {\n",
    "            \"chicago_Primary_Type\": \"$joined_data.Primary Type\", # Corrected to reference joined data\n",
    "            \"sf_Category\": \"$Category\", # Assuming 'Category' exists in 'crime.sf' and corrected typo\n",
    "            # Add other fields as needed\n",
    "        }\n",
    "    }\n",
    "]\n",
    "# Execute the aggregation pipeline\n",
    "data = db.crime.chicago.aggregate(pipeline)\n",
    "\n",
    "# Collect the results into a list of dictionaries\n",
    "results = list(data)\n",
    "\n",
    "# Record the end time\n",
    "end_time = time.time()\n",
    "execution_time = end_time - start_time\n",
    "\n",
    "# Create a DataFrame from the results\n",
    "df = pd.DataFrame(results)\n",
    "\n",
    "# Print the DataFrame as a table\n",
    "display(df)  # Use print(df) if not in a Jupyter notebook\n",
    "\n",
    "# Print execution time\n",
    "print(f\"Execution Time: {execution_time:.2f} seconds\")\n"
   ]
  }
 ],
 "metadata": {
  "kernelspec": {
   "display_name": "invokeai",
   "language": "python",
   "name": "python3"
  },
  "language_info": {
   "codemirror_mode": {
    "name": "ipython",
    "version": 3
   },
   "file_extension": ".py",
   "mimetype": "text/x-python",
   "name": "python",
   "nbconvert_exporter": "python",
   "pygments_lexer": "ipython3",
   "version": "3.1.0"
  },
  "orig_nbformat": 4
 },
 "nbformat": 4,
 "nbformat_minor": 2
}
