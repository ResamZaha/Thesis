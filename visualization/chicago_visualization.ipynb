{
 "cells": [
  {
   "cell_type": "code",
   "execution_count": 2,
   "metadata": {},
   "outputs": [],
   "source": [
    "# For data processing\n",
    "import numpy as np\n",
    "from math import sqrt\n",
    "# For data processing and manipulation\n",
    "import pandas as pd\n",
    "import csv\n",
    " \n",
    "# For date calculations\n",
    "import datetime\n",
    "import time\n",
    " \n",
    "# For ploting data\n",
    "import IPython\n",
    "import IPython.display\n",
    " \n",
    "import itertools\n",
    "from itertools import cycle\n",
    "import matplotlib as mpl\n",
    "import matplotlib.pyplot as plt\n",
    "import seaborn as sns\n",
    "%matplotlib inline\n",
    " \n",
    "# For checking path\n",
    "import os , gc\n",
    "from os import path\n",
    "import csv\n",
    "import json\n",
    "from IPython.display import clear_output \n",
    " \n",
    "from scipy.stats import hmean\n",
    " \n",
    "from sklearn.metrics import mean_squared_error\n",
    "import requests\n",
    "\n",
    "import ipywidgets as widgets\n",
    "from ipywidgets import interact, interact_manual\n"
   ]
  },
  {
   "cell_type": "code",
   "execution_count": 4,
   "metadata": {},
   "outputs": [],
   "source": [
    "plt.rcParams['font.family'] = 'serif'\n",
    "plt.rcParams['font.serif'] = ['Times New Roman'] + plt.rcParams['font.serif']"
   ]
  },
  {
   "cell_type": "code",
   "execution_count": 5,
   "metadata": {},
   "outputs": [],
   "source": [
    "DATABASE_URL = \"http://127.0.0.1:5000/\""
   ]
  },
  {
   "cell_type": "code",
   "execution_count": 6,
   "metadata": {},
   "outputs": [],
   "source": [
    "ROOTPATH = 'C:\\\\Study\\\\CSE 4000\\\\New folder\\\\Thesis\\\\'\n",
    "PATH_IMAGE = ROOTPATH+'images_chicago\\\\'\n",
    "PATH_DA = ROOTPATH+\"dataset\\\\chicago_data_for_da.csv\"\n",
    "PATH_PDA = ROOTPATH+\"dataset\\\\chicago_data_chicago_for_police_da.csv\""
   ]
  },
  {
   "cell_type": "code",
   "execution_count": 7,
   "metadata": {},
   "outputs": [
    {
     "name": "stdout",
     "output_type": "stream",
     "text": [
      "Error: 403\n"
     ]
    }
   ],
   "source": [
    "requestData = {\n",
    " 'Primary Type': 'CRIMINAL DAMAGE',\n",
    " 'Location Description': 'RESIDENCE',\n",
    " 'Arrest': False}\n",
    "#requestData = json.dump(requestData)\n",
    "\n",
    "urlTest = DATABASE_URL + \"query/find/chicago/crime\"\n",
    "#x = requests.get(urlTest, json=requestData)\n",
    "#print(len(x.json()))\n",
    "response = requests.get(urlTest, json=requestData)\n",
    "\n",
    "if response.ok:\n",
    "    try:\n",
    "        data = response.json()\n",
    "        print(len(data))\n",
    "    except json.JSONDecodeError as e:\n",
    "        print(\"Error decoding JSON response:\", e)\n",
    "else:\n",
    "    print(\"Error:\", response.status_code)"
   ]
  },
  {
   "attachments": {},
   "cell_type": "markdown",
   "metadata": {},
   "source": [
    "<h4><b> YEARS </h4></b>\n",
    "```py \n",
    "# Finding number of unique years \"\n",
    "num_year = dataset_df['Year'].nunique()\n",
    "print(\"Num Year :\" , num_year)\n",
    "```"
   ]
  },
  {
   "cell_type": "code",
   "execution_count": 29,
   "metadata": {},
   "outputs": [
    {
     "name": "stdout",
     "output_type": "stream",
     "text": [
      "Num Year : 24\n",
      "Execution Time: 5.77 seconds\n"
     ]
    }
   ],
   "source": [
    "# Record the start time\n",
    "start_time = time.time()\n",
    "\n",
    "requestData = {\n",
    " 'field': 'Year'}\n",
    "\n",
    "urlTest = DATABASE_URL + \"/query/unique/chicago/crime\"\n",
    "x = requests.get(urlTest, json=requestData)\n",
    "num_year = x.json()\n",
    "print(\"Num Year :\" , len(num_year))\n",
    "\n",
    "# Record the end time\n",
    "end_time = time.time()\n",
    "execution_time = end_time - start_time\n",
    "print(\"Execution Time: {:.2f} seconds\".format(execution_time))\n"
   ]
  },
  {
   "cell_type": "code",
   "execution_count": 7,
   "metadata": {},
   "outputs": [],
   "source": [
    "del x"
   ]
  },
  {
   "attachments": {},
   "cell_type": "markdown",
   "metadata": {},
   "source": [
    "<h3><b> Primary Types </h3></b>\n",
    "```py \n",
    "#Finding uniuqe classes\"\n",
    "classes = dataset_df['Category'].drop_duplicates().sort_values(ascending = True).values\n",
    "print(\"Unique classes = \\n\",classes)\n",
    "\n",
    "num_classes = classes.shape[0]\n",
    "print(\"Number of cateories = \",num_classes)\n",
    "```"
   ]
  },
  {
   "cell_type": "code",
   "execution_count": 30,
   "metadata": {},
   "outputs": [
    {
     "name": "stdout",
     "output_type": "stream",
     "text": [
      "Unique classes = \n",
      " ['ARSON', 'ASSAULT', 'BATTERY', 'BURGLARY', 'CONCEALED CARRY LICENSE VIOLATION', 'CRIM SEXUAL ASSAULT', 'CRIMINAL DAMAGE', 'CRIMINAL SEXUAL ASSAULT', 'CRIMINAL TRESPASS', 'DECEPTIVE PRACTICE', 'DOMESTIC VIOLENCE', 'GAMBLING', 'HOMICIDE', 'HUMAN TRAFFICKING', 'INTERFERENCE WITH PUBLIC OFFICER', 'INTIMIDATION', 'KIDNAPPING', 'LIQUOR LAW VIOLATION', 'MOTOR VEHICLE THEFT', 'NARCOTICS', 'NON - CRIMINAL', 'NON-CRIMINAL', 'NON-CRIMINAL (SUBJECT SPECIFIED)', 'OBSCENITY', 'OFFENSE INVOLVING CHILDREN', 'OTHER NARCOTIC VIOLATION', 'OTHER OFFENSE', 'PROSTITUTION', 'PUBLIC INDECENCY', 'PUBLIC PEACE VIOLATION', 'RITUALISM', 'ROBBERY', 'SEX OFFENSE', 'STALKING', 'THEFT', 'WEAPONS VIOLATION']\n",
      "Number of cateories =  36\n",
      "Execution Time: 3.46 seconds\n"
     ]
    }
   ],
   "source": [
    "# Record the start time\n",
    "start_time = time.time()\n",
    "\n",
    "requestData = {\n",
    " 'field': 'Primary Type'}\n",
    "\n",
    "urlTest = DATABASE_URL + \"/query/unique/chicago/crime\"\n",
    "x = requests.get(urlTest, json=requestData)\n",
    "classes = x.json()\n",
    "print(\"Unique classes = \\n\",classes)\n",
    "print(\"Number of cateories = \",len(classes))\n",
    "\n",
    "# Record the end time\n",
    "end_time = time.time()\n",
    "execution_time = end_time - start_time\n",
    "print(\"Execution Time: {:.2f} seconds\".format(execution_time))"
   ]
  },
  {
   "attachments": {},
   "cell_type": "markdown",
   "metadata": {},
   "source": [
    "<h3><b> Districts </h3></b>\n",
    "```py\n",
    "# Finding unique police department district name \n",
    "Police_dept_name = dataset_df['PdDistrict'].drop_duplicates()\n",
    "# Number of police department\n",
    "num_police_dept = len(Police_dept_name)\n",
    "print(\"Number of Police Department = \",num_police_dept)\n",
    "print(\"Police Departments Name -> \\n\",Police_dept_name)\n",
    "```"
   ]
  },
  {
   "cell_type": "code",
   "execution_count": 31,
   "metadata": {},
   "outputs": [
    {
     "name": "stdout",
     "output_type": "stream",
     "text": [
      "Number of Police Department =  24\n",
      "Police Departments Name -> \n",
      " [1, 2, 3, 4, 5, 6, 7, 8, 9, 10, 11, 12, 14, 15, 16, 17, 18, 19, 20, 21, 22, 24, 25, 31]\n",
      "Execution Time: 4.29 seconds\n"
     ]
    }
   ],
   "source": [
    "# Record the start time\n",
    "start_time = time.time()\n",
    "\n",
    "requestData = {\n",
    " 'field': 'District'}\n",
    "\n",
    "urlTest = DATABASE_URL + \"/query/unique/chicago/crime\"\n",
    "x = requests.get(urlTest, json=requestData)\n",
    "Police_dept_name = x.json()\n",
    "num_police_dept = len(Police_dept_name)\n",
    "print(\"Number of Police Department = \",num_police_dept)\n",
    "print(\"Police Departments Name -> \\n\",Police_dept_name)\n",
    "\n",
    "# Record the end time\n",
    "end_time = time.time()\n",
    "execution_time = end_time - start_time\n",
    "print(\"Execution Time: {:.2f} seconds\".format(execution_time))"
   ]
  },
  {
   "attachments": {},
   "cell_type": "markdown",
   "metadata": {},
   "source": [
    "<h1><b> Per District Crime Without Pipeline </h1></b>"
   ]
  },
  {
   "cell_type": "code",
   "execution_count": 10,
   "metadata": {},
   "outputs": [
    {
     "name": "stdout",
     "output_type": "stream",
     "text": [
      "1  :  325610\n",
      "2  :  378792\n",
      "3  :  404794\n",
      "4  :  453301\n",
      "5  :  353063\n",
      "6  :  467029\n",
      "7  :  458529\n",
      "8  :  536204\n",
      "9  :  389446\n",
      "10  :  343917\n",
      "11  :  510925\n",
      "12  :  397705\n",
      "14  :  308476\n",
      "15  :  340081\n",
      "16  :  267885\n",
      "17  :  230638\n",
      "18  :  359456\n",
      "19  :  360050\n",
      "20  :  141891\n",
      "21  :  4\n",
      "22  :  261241\n",
      "24  :  242401\n",
      "25  :  453736\n",
      "31  :  251\n",
      "Execution Time: 320.42 seconds\n"
     ]
    },
    {
     "data": {
      "text/plain": [
       "\"df = pd.DataFrame.from_dict(pdXCount, orient='index')\\nprint(df.describe())\\ndf.plot(kind='bar', title='Number of Crime in each Police Department', figsize=(15, 10), legend=False, fontsize=12)\\nplt.xlabel('Police Department', fontsize=12)\\nplt.ylabel('Number of Crime', fontsize=12)\\nplt.show()\""
      ]
     },
     "execution_count": 10,
     "metadata": {},
     "output_type": "execute_result"
    }
   ],
   "source": [
    "# Record the start time\n",
    "start_time = time.time()\n",
    "\n",
    "# crime per district without using pipeline\n",
    "pdXCount = {}\n",
    "for police_dept_now in Police_dept_name:\n",
    "    requestData = {\n",
    "     'District': police_dept_now}\n",
    "    urlTest = DATABASE_URL + \"/query/find/chicago/crime\"\n",
    "    x = requests.get(urlTest, json=requestData)\n",
    "    data = x.json()\n",
    "    print( police_dept_now , \" : \" , len(data))\n",
    "    pdXCount[police_dept_now] = len(data)\n",
    "    \n",
    "# Record the end time\n",
    "end_time = time.time()\n",
    "execution_time = end_time - start_time\n",
    "print(\"Execution Time: {:.2f} seconds\".format(execution_time))\n",
    "  \n",
    "\"\"\"df = pd.DataFrame.from_dict(pdXCount, orient='index')\n",
    "print(df.describe())\n",
    "df.plot(kind='bar', title='Number of Crime in each Police Department', figsize=(15, 10), legend=False, fontsize=12)\n",
    "plt.xlabel('Police Department', fontsize=12)\n",
    "plt.ylabel('Number of Crime', fontsize=12)\n",
    "plt.show()\"\"\"\n"
   ]
  },
  {
   "cell_type": "markdown",
   "metadata": {},
   "source": [
    "<h1><b> Per District Crime With Pipeline </h1></b>"
   ]
  },
  {
   "cell_type": "code",
   "execution_count": 3,
   "metadata": {},
   "outputs": [
    {
     "ename": "NameError",
     "evalue": "name 'DATABASE_URL' is not defined",
     "output_type": "error",
     "traceback": [
      "\u001b[0;31m---------------------------------------------------------------------------\u001b[0m",
      "\u001b[0;31mNameError\u001b[0m                                 Traceback (most recent call last)",
      "Cell \u001b[0;32mIn[3], line 57\u001b[0m\n\u001b[1;32m     55\u001b[0m \u001b[38;5;66;03m#crime per type\u001b[39;00m\n\u001b[1;32m     56\u001b[0m disXCount \u001b[38;5;241m=\u001b[39m {}\n\u001b[0;32m---> 57\u001b[0m urlTest \u001b[38;5;241m=\u001b[39m DATABASE_URL \u001b[38;5;241m+\u001b[39m \u001b[38;5;124m\"\u001b[39m\u001b[38;5;124m/query/aggregate/chicago/crime\u001b[39m\u001b[38;5;124m\"\u001b[39m\n\u001b[1;32m     58\u001b[0m pipeline \u001b[38;5;241m=\u001b[39m [\n\u001b[1;32m     59\u001b[0m     {\n\u001b[1;32m     60\u001b[0m         \u001b[38;5;124m\"\u001b[39m\u001b[38;5;124m$group\u001b[39m\u001b[38;5;124m\"\u001b[39m: {\n\u001b[0;32m   (...)\u001b[0m\n\u001b[1;32m     69\u001b[0m     }\n\u001b[1;32m     70\u001b[0m ]\n\u001b[1;32m     71\u001b[0m x \u001b[38;5;241m=\u001b[39m requests\u001b[38;5;241m.\u001b[39mget(urlTest, json\u001b[38;5;241m=\u001b[39mpipeline)\n",
      "\u001b[0;31mNameError\u001b[0m: name 'DATABASE_URL' is not defined"
     ]
    }
   ],
   "source": [
    "\"\"\"# Record the start time\n",
    "start_time = time.time()\n",
    "\n",
    "# crime per district using pipeline\n",
    "disXCount = {}\n",
    "for dis_now in Police_dept_name:\n",
    "    requestData = {\n",
    "        'District': dis_now}\n",
    "    urlTest = DATABASE_URL + \"/query/aggregate/chicago/crime\"\n",
    "    pipeline = [\n",
    "        {\n",
    "            \"$match\": {\n",
    "                \"District\": dis_now\n",
    "            }\n",
    "        },\n",
    "        {\n",
    "            \"$group\": {\n",
    "                \"_id\": \"$Primary Type\",\n",
    "                \"count\": {\n",
    "                    \"$sum\": 1\n",
    "                }\n",
    "            }\n",
    "        },\n",
    "        {\n",
    "            \"$sort\": {\n",
    "                \"District\": 1\n",
    "            }\n",
    "        },\n",
    "    ]\n",
    "    x = requests.get(urlTest, json=pipeline)\n",
    "    data = x.json()\n",
    "    # sum each crime category\n",
    "    tsum = sum([x['count'] for x in data])\n",
    "    print( dis_now , \" : \" , tsum)\n",
    "    disXCount[dis_now] = tsum\n",
    "    \n",
    "# Record the end time\n",
    "end_time = time.time()\n",
    "execution_time = end_time - start_time\n",
    "print(\"Execution Time: {:.2f} seconds\".format(execution_time))\n",
    "\n",
    "\n",
    "df = pd.DataFrame.from_dict(disXCount, orient='index')\n",
    "print(df.describe())\n",
    "df.plot(kind='bar', title='Number of Crime in each District',\n",
    "        figsize=(15, 10), legend=False, fontsize=12)\n",
    "plt.xlabel('District', fontsize=12)\n",
    "plt.ylabel('Number of Crime', fontsize=12)\n",
    "plt.show()\n",
    "\"\"\"\n",
    "\n",
    "# Record the start time\n",
    "start_time = time.time()\n",
    "\n",
    "#crime per type\n",
    "disXCount = {}\n",
    "urlTest = DATABASE_URL + \"/query/aggregate/chicago/crime\"\n",
    "pipeline = [\n",
    "    {\n",
    "        \"$group\": {\n",
    "                \"_id\": \"$District\",\n",
    "                \"Case Number per District\" : {\"$sum\" : 1}\n",
    "        }\n",
    "    },\n",
    "    {\n",
    "        \"$sort\": {\n",
    "            \"_id\": 1\n",
    "        }\n",
    "    }\n",
    "]\n",
    "x = requests.get(urlTest, json=pipeline)\n",
    "data = x.json()\n",
    "tsum = sum([x['Case Number per District'] for x in data])\n",
    "c = 0\n",
    "for doc in data:\n",
    "    #print(doc)\n",
    "    print( doc['_id'] , \" : \" , doc['Case Number per District'])\n",
    "    disXCount[doc['_id']] = doc['Case Number per District']\n",
    "    c = c + 1\n",
    "\n",
    "# Record the end time\n",
    "end_time = time.time()\n",
    "execution_time = end_time - start_time\n",
    "\n",
    "\n",
    "\n",
    "print(\"Total Unique Districts = \" , c)\n",
    "print(\"Total Cases = \" , tsum)\n",
    "print(\"Execution Time: {:.2f} seconds\".format(execution_time))\n",
    "        "
   ]
  },
  {
   "cell_type": "code",
   "execution_count": 12,
   "metadata": {},
   "outputs": [],
   "source": [
    "del x"
   ]
  },
  {
   "cell_type": "markdown",
   "metadata": {},
   "source": [
    "<h2><b> Per Type Crime Without using Pipeline </h2></b>"
   ]
  },
  {
   "cell_type": "code",
   "execution_count": 33,
   "metadata": {},
   "outputs": [
    {
     "name": "stdout",
     "output_type": "stream",
     "text": [
      "ARSON  :  13653\n"
     ]
    },
    {
     "ename": "KeyboardInterrupt",
     "evalue": "",
     "output_type": "error",
     "traceback": [
      "\u001b[0;31m---------------------------------------------------------------------------\u001b[0m",
      "\u001b[0;31mKeyboardInterrupt\u001b[0m                         Traceback (most recent call last)",
      "Cell \u001b[0;32mIn[33], line 10\u001b[0m\n\u001b[1;32m      7\u001b[0m requestData \u001b[38;5;241m=\u001b[39m {\n\u001b[1;32m      8\u001b[0m  \u001b[38;5;124m'\u001b[39m\u001b[38;5;124mPrimary Type\u001b[39m\u001b[38;5;124m'\u001b[39m: crimecat_now}\n\u001b[1;32m      9\u001b[0m urlTest \u001b[38;5;241m=\u001b[39m DATABASE_URL \u001b[38;5;241m+\u001b[39m \u001b[38;5;124m\"\u001b[39m\u001b[38;5;124m/query/find/chicago/crime\u001b[39m\u001b[38;5;124m\"\u001b[39m\n\u001b[0;32m---> 10\u001b[0m x \u001b[38;5;241m=\u001b[39m requests\u001b[38;5;241m.\u001b[39mget(urlTest, json\u001b[38;5;241m=\u001b[39mrequestData)\n\u001b[1;32m     11\u001b[0m data \u001b[38;5;241m=\u001b[39m x\u001b[38;5;241m.\u001b[39mjson()\n\u001b[1;32m     12\u001b[0m \u001b[38;5;28mprint\u001b[39m( crimecat_now , \u001b[38;5;124m\"\u001b[39m\u001b[38;5;124m : \u001b[39m\u001b[38;5;124m\"\u001b[39m , \u001b[38;5;28mlen\u001b[39m(data))\n",
      "File \u001b[0;32m~/anaconda3/lib/python3.11/site-packages/requests/api.py:73\u001b[0m, in \u001b[0;36mget\u001b[0;34m(url, params, **kwargs)\u001b[0m\n\u001b[1;32m     62\u001b[0m \u001b[38;5;28;01mdef\u001b[39;00m \u001b[38;5;21mget\u001b[39m(url, params\u001b[38;5;241m=\u001b[39m\u001b[38;5;28;01mNone\u001b[39;00m, \u001b[38;5;241m*\u001b[39m\u001b[38;5;241m*\u001b[39mkwargs):\n\u001b[1;32m     63\u001b[0m \u001b[38;5;250m    \u001b[39m\u001b[38;5;124mr\u001b[39m\u001b[38;5;124;03m\"\"\"Sends a GET request.\u001b[39;00m\n\u001b[1;32m     64\u001b[0m \n\u001b[1;32m     65\u001b[0m \u001b[38;5;124;03m    :param url: URL for the new :class:`Request` object.\u001b[39;00m\n\u001b[0;32m   (...)\u001b[0m\n\u001b[1;32m     70\u001b[0m \u001b[38;5;124;03m    :rtype: requests.Response\u001b[39;00m\n\u001b[1;32m     71\u001b[0m \u001b[38;5;124;03m    \"\"\"\u001b[39;00m\n\u001b[0;32m---> 73\u001b[0m     \u001b[38;5;28;01mreturn\u001b[39;00m request(\u001b[38;5;124m\"\u001b[39m\u001b[38;5;124mget\u001b[39m\u001b[38;5;124m\"\u001b[39m, url, params\u001b[38;5;241m=\u001b[39mparams, \u001b[38;5;241m*\u001b[39m\u001b[38;5;241m*\u001b[39mkwargs)\n",
      "File \u001b[0;32m~/anaconda3/lib/python3.11/site-packages/requests/api.py:59\u001b[0m, in \u001b[0;36mrequest\u001b[0;34m(method, url, **kwargs)\u001b[0m\n\u001b[1;32m     55\u001b[0m \u001b[38;5;66;03m# By using the 'with' statement we are sure the session is closed, thus we\u001b[39;00m\n\u001b[1;32m     56\u001b[0m \u001b[38;5;66;03m# avoid leaving sockets open which can trigger a ResourceWarning in some\u001b[39;00m\n\u001b[1;32m     57\u001b[0m \u001b[38;5;66;03m# cases, and look like a memory leak in others.\u001b[39;00m\n\u001b[1;32m     58\u001b[0m \u001b[38;5;28;01mwith\u001b[39;00m sessions\u001b[38;5;241m.\u001b[39mSession() \u001b[38;5;28;01mas\u001b[39;00m session:\n\u001b[0;32m---> 59\u001b[0m     \u001b[38;5;28;01mreturn\u001b[39;00m session\u001b[38;5;241m.\u001b[39mrequest(method\u001b[38;5;241m=\u001b[39mmethod, url\u001b[38;5;241m=\u001b[39murl, \u001b[38;5;241m*\u001b[39m\u001b[38;5;241m*\u001b[39mkwargs)\n",
      "File \u001b[0;32m~/anaconda3/lib/python3.11/site-packages/requests/sessions.py:589\u001b[0m, in \u001b[0;36mSession.request\u001b[0;34m(self, method, url, params, data, headers, cookies, files, auth, timeout, allow_redirects, proxies, hooks, stream, verify, cert, json)\u001b[0m\n\u001b[1;32m    584\u001b[0m send_kwargs \u001b[38;5;241m=\u001b[39m {\n\u001b[1;32m    585\u001b[0m     \u001b[38;5;124m\"\u001b[39m\u001b[38;5;124mtimeout\u001b[39m\u001b[38;5;124m\"\u001b[39m: timeout,\n\u001b[1;32m    586\u001b[0m     \u001b[38;5;124m\"\u001b[39m\u001b[38;5;124mallow_redirects\u001b[39m\u001b[38;5;124m\"\u001b[39m: allow_redirects,\n\u001b[1;32m    587\u001b[0m }\n\u001b[1;32m    588\u001b[0m send_kwargs\u001b[38;5;241m.\u001b[39mupdate(settings)\n\u001b[0;32m--> 589\u001b[0m resp \u001b[38;5;241m=\u001b[39m \u001b[38;5;28mself\u001b[39m\u001b[38;5;241m.\u001b[39msend(prep, \u001b[38;5;241m*\u001b[39m\u001b[38;5;241m*\u001b[39msend_kwargs)\n\u001b[1;32m    591\u001b[0m \u001b[38;5;28;01mreturn\u001b[39;00m resp\n",
      "File \u001b[0;32m~/anaconda3/lib/python3.11/site-packages/requests/sessions.py:703\u001b[0m, in \u001b[0;36mSession.send\u001b[0;34m(self, request, **kwargs)\u001b[0m\n\u001b[1;32m    700\u001b[0m start \u001b[38;5;241m=\u001b[39m preferred_clock()\n\u001b[1;32m    702\u001b[0m \u001b[38;5;66;03m# Send the request\u001b[39;00m\n\u001b[0;32m--> 703\u001b[0m r \u001b[38;5;241m=\u001b[39m adapter\u001b[38;5;241m.\u001b[39msend(request, \u001b[38;5;241m*\u001b[39m\u001b[38;5;241m*\u001b[39mkwargs)\n\u001b[1;32m    705\u001b[0m \u001b[38;5;66;03m# Total elapsed time of the request (approximately)\u001b[39;00m\n\u001b[1;32m    706\u001b[0m elapsed \u001b[38;5;241m=\u001b[39m preferred_clock() \u001b[38;5;241m-\u001b[39m start\n",
      "File \u001b[0;32m~/anaconda3/lib/python3.11/site-packages/requests/adapters.py:486\u001b[0m, in \u001b[0;36mHTTPAdapter.send\u001b[0;34m(self, request, stream, timeout, verify, cert, proxies)\u001b[0m\n\u001b[1;32m    483\u001b[0m     timeout \u001b[38;5;241m=\u001b[39m TimeoutSauce(connect\u001b[38;5;241m=\u001b[39mtimeout, read\u001b[38;5;241m=\u001b[39mtimeout)\n\u001b[1;32m    485\u001b[0m \u001b[38;5;28;01mtry\u001b[39;00m:\n\u001b[0;32m--> 486\u001b[0m     resp \u001b[38;5;241m=\u001b[39m conn\u001b[38;5;241m.\u001b[39murlopen(\n\u001b[1;32m    487\u001b[0m         method\u001b[38;5;241m=\u001b[39mrequest\u001b[38;5;241m.\u001b[39mmethod,\n\u001b[1;32m    488\u001b[0m         url\u001b[38;5;241m=\u001b[39murl,\n\u001b[1;32m    489\u001b[0m         body\u001b[38;5;241m=\u001b[39mrequest\u001b[38;5;241m.\u001b[39mbody,\n\u001b[1;32m    490\u001b[0m         headers\u001b[38;5;241m=\u001b[39mrequest\u001b[38;5;241m.\u001b[39mheaders,\n\u001b[1;32m    491\u001b[0m         redirect\u001b[38;5;241m=\u001b[39m\u001b[38;5;28;01mFalse\u001b[39;00m,\n\u001b[1;32m    492\u001b[0m         assert_same_host\u001b[38;5;241m=\u001b[39m\u001b[38;5;28;01mFalse\u001b[39;00m,\n\u001b[1;32m    493\u001b[0m         preload_content\u001b[38;5;241m=\u001b[39m\u001b[38;5;28;01mFalse\u001b[39;00m,\n\u001b[1;32m    494\u001b[0m         decode_content\u001b[38;5;241m=\u001b[39m\u001b[38;5;28;01mFalse\u001b[39;00m,\n\u001b[1;32m    495\u001b[0m         retries\u001b[38;5;241m=\u001b[39m\u001b[38;5;28mself\u001b[39m\u001b[38;5;241m.\u001b[39mmax_retries,\n\u001b[1;32m    496\u001b[0m         timeout\u001b[38;5;241m=\u001b[39mtimeout,\n\u001b[1;32m    497\u001b[0m         chunked\u001b[38;5;241m=\u001b[39mchunked,\n\u001b[1;32m    498\u001b[0m     )\n\u001b[1;32m    500\u001b[0m \u001b[38;5;28;01mexcept\u001b[39;00m (ProtocolError, \u001b[38;5;167;01mOSError\u001b[39;00m) \u001b[38;5;28;01mas\u001b[39;00m err:\n\u001b[1;32m    501\u001b[0m     \u001b[38;5;28;01mraise\u001b[39;00m \u001b[38;5;167;01mConnectionError\u001b[39;00m(err, request\u001b[38;5;241m=\u001b[39mrequest)\n",
      "File \u001b[0;32m~/anaconda3/lib/python3.11/site-packages/urllib3/connectionpool.py:714\u001b[0m, in \u001b[0;36mHTTPConnectionPool.urlopen\u001b[0;34m(self, method, url, body, headers, retries, redirect, assert_same_host, timeout, pool_timeout, release_conn, chunked, body_pos, **response_kw)\u001b[0m\n\u001b[1;32m    711\u001b[0m     \u001b[38;5;28mself\u001b[39m\u001b[38;5;241m.\u001b[39m_prepare_proxy(conn)\n\u001b[1;32m    713\u001b[0m \u001b[38;5;66;03m# Make the request on the httplib connection object.\u001b[39;00m\n\u001b[0;32m--> 714\u001b[0m httplib_response \u001b[38;5;241m=\u001b[39m \u001b[38;5;28mself\u001b[39m\u001b[38;5;241m.\u001b[39m_make_request(\n\u001b[1;32m    715\u001b[0m     conn,\n\u001b[1;32m    716\u001b[0m     method,\n\u001b[1;32m    717\u001b[0m     url,\n\u001b[1;32m    718\u001b[0m     timeout\u001b[38;5;241m=\u001b[39mtimeout_obj,\n\u001b[1;32m    719\u001b[0m     body\u001b[38;5;241m=\u001b[39mbody,\n\u001b[1;32m    720\u001b[0m     headers\u001b[38;5;241m=\u001b[39mheaders,\n\u001b[1;32m    721\u001b[0m     chunked\u001b[38;5;241m=\u001b[39mchunked,\n\u001b[1;32m    722\u001b[0m )\n\u001b[1;32m    724\u001b[0m \u001b[38;5;66;03m# If we're going to release the connection in ``finally:``, then\u001b[39;00m\n\u001b[1;32m    725\u001b[0m \u001b[38;5;66;03m# the response doesn't need to know about the connection. Otherwise\u001b[39;00m\n\u001b[1;32m    726\u001b[0m \u001b[38;5;66;03m# it will also try to release it and we'll have a double-release\u001b[39;00m\n\u001b[1;32m    727\u001b[0m \u001b[38;5;66;03m# mess.\u001b[39;00m\n\u001b[1;32m    728\u001b[0m response_conn \u001b[38;5;241m=\u001b[39m conn \u001b[38;5;28;01mif\u001b[39;00m \u001b[38;5;129;01mnot\u001b[39;00m release_conn \u001b[38;5;28;01melse\u001b[39;00m \u001b[38;5;28;01mNone\u001b[39;00m\n",
      "File \u001b[0;32m~/anaconda3/lib/python3.11/site-packages/urllib3/connectionpool.py:466\u001b[0m, in \u001b[0;36mHTTPConnectionPool._make_request\u001b[0;34m(self, conn, method, url, timeout, chunked, **httplib_request_kw)\u001b[0m\n\u001b[1;32m    461\u001b[0m             httplib_response \u001b[38;5;241m=\u001b[39m conn\u001b[38;5;241m.\u001b[39mgetresponse()\n\u001b[1;32m    462\u001b[0m         \u001b[38;5;28;01mexcept\u001b[39;00m \u001b[38;5;167;01mBaseException\u001b[39;00m \u001b[38;5;28;01mas\u001b[39;00m e:\n\u001b[1;32m    463\u001b[0m             \u001b[38;5;66;03m# Remove the TypeError from the exception chain in\u001b[39;00m\n\u001b[1;32m    464\u001b[0m             \u001b[38;5;66;03m# Python 3 (including for exceptions like SystemExit).\u001b[39;00m\n\u001b[1;32m    465\u001b[0m             \u001b[38;5;66;03m# Otherwise it looks like a bug in the code.\u001b[39;00m\n\u001b[0;32m--> 466\u001b[0m             six\u001b[38;5;241m.\u001b[39mraise_from(e, \u001b[38;5;28;01mNone\u001b[39;00m)\n\u001b[1;32m    467\u001b[0m \u001b[38;5;28;01mexcept\u001b[39;00m (SocketTimeout, BaseSSLError, SocketError) \u001b[38;5;28;01mas\u001b[39;00m e:\n\u001b[1;32m    468\u001b[0m     \u001b[38;5;28mself\u001b[39m\u001b[38;5;241m.\u001b[39m_raise_timeout(err\u001b[38;5;241m=\u001b[39me, url\u001b[38;5;241m=\u001b[39murl, timeout_value\u001b[38;5;241m=\u001b[39mread_timeout)\n",
      "File \u001b[0;32m<string>:3\u001b[0m, in \u001b[0;36mraise_from\u001b[0;34m(value, from_value)\u001b[0m\n",
      "File \u001b[0;32m~/anaconda3/lib/python3.11/site-packages/urllib3/connectionpool.py:461\u001b[0m, in \u001b[0;36mHTTPConnectionPool._make_request\u001b[0;34m(self, conn, method, url, timeout, chunked, **httplib_request_kw)\u001b[0m\n\u001b[1;32m    458\u001b[0m \u001b[38;5;28;01mexcept\u001b[39;00m \u001b[38;5;167;01mTypeError\u001b[39;00m:\n\u001b[1;32m    459\u001b[0m     \u001b[38;5;66;03m# Python 3\u001b[39;00m\n\u001b[1;32m    460\u001b[0m     \u001b[38;5;28;01mtry\u001b[39;00m:\n\u001b[0;32m--> 461\u001b[0m         httplib_response \u001b[38;5;241m=\u001b[39m conn\u001b[38;5;241m.\u001b[39mgetresponse()\n\u001b[1;32m    462\u001b[0m     \u001b[38;5;28;01mexcept\u001b[39;00m \u001b[38;5;167;01mBaseException\u001b[39;00m \u001b[38;5;28;01mas\u001b[39;00m e:\n\u001b[1;32m    463\u001b[0m         \u001b[38;5;66;03m# Remove the TypeError from the exception chain in\u001b[39;00m\n\u001b[1;32m    464\u001b[0m         \u001b[38;5;66;03m# Python 3 (including for exceptions like SystemExit).\u001b[39;00m\n\u001b[1;32m    465\u001b[0m         \u001b[38;5;66;03m# Otherwise it looks like a bug in the code.\u001b[39;00m\n\u001b[1;32m    466\u001b[0m         six\u001b[38;5;241m.\u001b[39mraise_from(e, \u001b[38;5;28;01mNone\u001b[39;00m)\n",
      "File \u001b[0;32m~/anaconda3/lib/python3.11/http/client.py:1378\u001b[0m, in \u001b[0;36mHTTPConnection.getresponse\u001b[0;34m(self)\u001b[0m\n\u001b[1;32m   1376\u001b[0m \u001b[38;5;28;01mtry\u001b[39;00m:\n\u001b[1;32m   1377\u001b[0m     \u001b[38;5;28;01mtry\u001b[39;00m:\n\u001b[0;32m-> 1378\u001b[0m         response\u001b[38;5;241m.\u001b[39mbegin()\n\u001b[1;32m   1379\u001b[0m     \u001b[38;5;28;01mexcept\u001b[39;00m \u001b[38;5;167;01mConnectionError\u001b[39;00m:\n\u001b[1;32m   1380\u001b[0m         \u001b[38;5;28mself\u001b[39m\u001b[38;5;241m.\u001b[39mclose()\n",
      "File \u001b[0;32m~/anaconda3/lib/python3.11/http/client.py:318\u001b[0m, in \u001b[0;36mHTTPResponse.begin\u001b[0;34m(self)\u001b[0m\n\u001b[1;32m    316\u001b[0m \u001b[38;5;66;03m# read until we get a non-100 response\u001b[39;00m\n\u001b[1;32m    317\u001b[0m \u001b[38;5;28;01mwhile\u001b[39;00m \u001b[38;5;28;01mTrue\u001b[39;00m:\n\u001b[0;32m--> 318\u001b[0m     version, status, reason \u001b[38;5;241m=\u001b[39m \u001b[38;5;28mself\u001b[39m\u001b[38;5;241m.\u001b[39m_read_status()\n\u001b[1;32m    319\u001b[0m     \u001b[38;5;28;01mif\u001b[39;00m status \u001b[38;5;241m!=\u001b[39m CONTINUE:\n\u001b[1;32m    320\u001b[0m         \u001b[38;5;28;01mbreak\u001b[39;00m\n",
      "File \u001b[0;32m~/anaconda3/lib/python3.11/http/client.py:279\u001b[0m, in \u001b[0;36mHTTPResponse._read_status\u001b[0;34m(self)\u001b[0m\n\u001b[1;32m    278\u001b[0m \u001b[38;5;28;01mdef\u001b[39;00m \u001b[38;5;21m_read_status\u001b[39m(\u001b[38;5;28mself\u001b[39m):\n\u001b[0;32m--> 279\u001b[0m     line \u001b[38;5;241m=\u001b[39m \u001b[38;5;28mstr\u001b[39m(\u001b[38;5;28mself\u001b[39m\u001b[38;5;241m.\u001b[39mfp\u001b[38;5;241m.\u001b[39mreadline(_MAXLINE \u001b[38;5;241m+\u001b[39m \u001b[38;5;241m1\u001b[39m), \u001b[38;5;124m\"\u001b[39m\u001b[38;5;124miso-8859-1\u001b[39m\u001b[38;5;124m\"\u001b[39m)\n\u001b[1;32m    280\u001b[0m     \u001b[38;5;28;01mif\u001b[39;00m \u001b[38;5;28mlen\u001b[39m(line) \u001b[38;5;241m>\u001b[39m _MAXLINE:\n\u001b[1;32m    281\u001b[0m         \u001b[38;5;28;01mraise\u001b[39;00m LineTooLong(\u001b[38;5;124m\"\u001b[39m\u001b[38;5;124mstatus line\u001b[39m\u001b[38;5;124m\"\u001b[39m)\n",
      "File \u001b[0;32m~/anaconda3/lib/python3.11/socket.py:706\u001b[0m, in \u001b[0;36mSocketIO.readinto\u001b[0;34m(self, b)\u001b[0m\n\u001b[1;32m    704\u001b[0m \u001b[38;5;28;01mwhile\u001b[39;00m \u001b[38;5;28;01mTrue\u001b[39;00m:\n\u001b[1;32m    705\u001b[0m     \u001b[38;5;28;01mtry\u001b[39;00m:\n\u001b[0;32m--> 706\u001b[0m         \u001b[38;5;28;01mreturn\u001b[39;00m \u001b[38;5;28mself\u001b[39m\u001b[38;5;241m.\u001b[39m_sock\u001b[38;5;241m.\u001b[39mrecv_into(b)\n\u001b[1;32m    707\u001b[0m     \u001b[38;5;28;01mexcept\u001b[39;00m timeout:\n\u001b[1;32m    708\u001b[0m         \u001b[38;5;28mself\u001b[39m\u001b[38;5;241m.\u001b[39m_timeout_occurred \u001b[38;5;241m=\u001b[39m \u001b[38;5;28;01mTrue\u001b[39;00m\n",
      "\u001b[0;31mKeyboardInterrupt\u001b[0m: "
     ]
    }
   ],
   "source": [
    "# Record the start time\n",
    "start_time = time.time()\n",
    "\n",
    "#per type crime using previous query\n",
    "crimecatXCount = {}\n",
    "for crimecat_now in classes:\n",
    "    requestData = {\n",
    "     'Primary Type': crimecat_now}\n",
    "    urlTest = DATABASE_URL + \"/query/find/chicago/crime\"\n",
    "    x = requests.get(urlTest, json=requestData)\n",
    "    data = x.json()\n",
    "    print( crimecat_now , \" : \" , len(data))\n",
    "    crimecatXCount[crimecat_now] = len(data)\n",
    "    \n",
    "# Record the end time\n",
    "end_time = time.time()\n",
    "execution_time = end_time - start_time\n",
    "print(\"Execution Time: {:.2f} seconds\".format(execution_time))\n",
    "\n",
    "\"\"\"df = pd.DataFrame.from_dict(crimecatXCount, orient='index')\n",
    "print(df.describe())\n",
    "df.plot(kind='bar', title='Number of Crime in each Crime Category', figsize=(15, 10), legend=False, fontsize=12)\n",
    "plt.xlabel('Crime Category', fontsize=12)\n",
    "plt.ylabel('Number of Crime', fontsize=12)\n",
    "plt.show()\n",
    "\n",
    "# percentage pie plot of crime category\n",
    "df.plot(kind='pie', title='Percentage of Crime in each Crime Category', figsize=(15, 10), legend=False, fontsize=12, subplots=True)\n",
    "plt.xlabel('Crime Category', fontsize=12)\n",
    "plt.ylabel('Number of Crime', fontsize=12)\n",
    "plt.show()\"\"\"\n"
   ]
  },
  {
   "cell_type": "markdown",
   "metadata": {},
   "source": [
    "<h2><b> Per Type Crime using Pipeline </h2></b>"
   ]
  },
  {
   "cell_type": "code",
   "execution_count": 34,
   "metadata": {},
   "outputs": [
    {
     "name": "stdout",
     "output_type": "stream",
     "text": [
      "ARSON  :  13653\n",
      "ASSAULT  :  524687\n",
      "BATTERY  :  1456937\n",
      "BURGLARY  :  430008\n",
      "CONCEALED CARRY LICENSE VIOLATION  :  1231\n",
      "CRIM SEXUAL ASSAULT  :  27537\n",
      "CRIMINAL DAMAGE  :  910224\n",
      "CRIMINAL SEXUAL ASSAULT  :  8103\n",
      "CRIMINAL TRESPASS  :  217788\n",
      "DECEPTIVE PRACTICE  :  358343\n",
      "DOMESTIC VIOLENCE  :  1\n",
      "GAMBLING  :  14631\n",
      "HOMICIDE  :  13040\n",
      "HUMAN TRAFFICKING  :  105\n",
      "INTERFERENCE WITH PUBLIC OFFICER  :  18821\n",
      "INTIMIDATION  :  4837\n",
      "KIDNAPPING  :  7328\n",
      "LIQUOR LAW VIOLATION  :  15035\n",
      "MOTOR VEHICLE THEFT  :  396767\n",
      "NARCOTICS  :  751681\n",
      "NON - CRIMINAL  :  38\n",
      "NON-CRIMINAL  :  184\n",
      "NON-CRIMINAL (SUBJECT SPECIFIED)  :  9\n",
      "OBSCENITY  :  843\n",
      "OFFENSE INVOLVING CHILDREN  :  57186\n",
      "OTHER NARCOTIC VIOLATION  :  149\n",
      "OTHER OFFENSE  :  495544\n",
      "PROSTITUTION  :  69965\n",
      "PUBLIC INDECENCY  :  199\n",
      "PUBLIC PEACE VIOLATION  :  52974\n",
      "RITUALISM  :  24\n",
      "ROBBERY  :  301136\n",
      "SEX OFFENSE  :  31839\n",
      "STALKING  :  5192\n",
      "THEFT  :  1686542\n",
      "WEAPONS VIOLATION  :  112891\n",
      "Total Unique Type =  36\n",
      "Total Cases =  7985472\n",
      "Execution Time: 3.95 seconds\n"
     ]
    }
   ],
   "source": [
    "# Record the start time\n",
    "start_time = time.time()\n",
    "\n",
    "#crime per type\n",
    "crimecatXCount = {}\n",
    "urlTest = DATABASE_URL + \"/query/aggregate/chicago/crime\"\n",
    "pipeline = [\n",
    "    {\n",
    "        \"$group\": {\n",
    "                \"_id\": \"$Primary Type\",\n",
    "                \"Case Number per Type\" : {\"$sum\" : 1}\n",
    "        }\n",
    "    },\n",
    "    {\n",
    "        \"$sort\": {\n",
    "            \"_id\": 1\n",
    "        }\n",
    "    }\n",
    "]\n",
    "x = requests.get(urlTest, json=pipeline)\n",
    "data = x.json()\n",
    "tsum = sum([x['Case Number per Type'] for x in data])\n",
    "c = 0\n",
    "for doc in data:\n",
    "    #print(doc)\n",
    "    print( doc['_id'] , \" : \" , doc['Case Number per Type'])\n",
    "    crimecatXCount[doc['_id']] = doc['Case Number per Type']\n",
    "    c = c + 1\n",
    "\n",
    "# Record the end time\n",
    "end_time = time.time()\n",
    "execution_time = end_time - start_time\n",
    "\n",
    "\n",
    "\n",
    "print(\"Total Unique Type = \" , c)\n",
    "print(\"Total Cases = \" , tsum)\n",
    "print(\"Execution Time: {:.2f} seconds\".format(execution_time))"
   ]
  },
  {
   "cell_type": "code",
   "execution_count": 15,
   "metadata": {},
   "outputs": [],
   "source": [
    "del x"
   ]
  },
  {
   "cell_type": "markdown",
   "metadata": {},
   "source": [
    "<h2><b> Per Year Crime Without using Pipeline </h2></b>"
   ]
  },
  {
   "cell_type": "code",
   "execution_count": 16,
   "metadata": {},
   "outputs": [
    {
     "name": "stdout",
     "output_type": "stream",
     "text": [
      "2001  :  485903\n",
      "2002  :  486813\n",
      "2003  :  475987\n",
      "2004  :  469428\n",
      "2005  :  453776\n",
      "2006  :  448183\n",
      "2007  :  437090\n",
      "2008  :  427193\n",
      "2009  :  392835\n",
      "2010  :  370525\n",
      "2011  :  352006\n",
      "2012  :  336333\n",
      "2013  :  307552\n",
      "2014  :  275811\n",
      "2015  :  264823\n",
      "2016  :  269864\n",
      "2017  :  269138\n",
      "2018  :  268950\n",
      "2019  :  261410\n",
      "2020  :  212303\n",
      "2021  :  209032\n",
      "2022  :  239150\n",
      "2023  :  260476\n",
      "2024  :  10891\n",
      "Execution Time: 305.79 seconds\n"
     ]
    },
    {
     "data": {
      "text/plain": [
       "\"df = pd.DataFrame.from_dict(yearXCount, orient='index')\\nprint(df.describe())\\ndf.plot(kind='bar', title='Number of Crime in each Year', figsize=(15, 10), legend=False, fontsize=12)\\nplt.xlabel('Year', fontsize=12)\\nplt.ylabel('Number of Crime', fontsize=12)\\nplt.show()\""
      ]
     },
     "execution_count": 16,
     "metadata": {},
     "output_type": "execute_result"
    }
   ],
   "source": [
    "# Record the start time\n",
    "start_time = time.time()\n",
    "\n",
    "# crime per year without using pipeline with previous query\n",
    "yearXCount = {}\n",
    "for year_now in num_year:\n",
    "    requestData = {\n",
    "     'Year': year_now}\n",
    "    urlTest = DATABASE_URL + \"/query/find/chicago/crime\"\n",
    "    x = requests.get(urlTest, json=requestData)\n",
    "    data = x.json()\n",
    "    print( year_now , \" : \" , len(data))\n",
    "    yearXCount[year_now] = len(data)\n",
    "\n",
    "# Record the end time\n",
    "end_time = time.time()\n",
    "execution_time = end_time - start_time\n",
    "print(\"Execution Time: {:.2f} seconds\".format(execution_time))\n",
    "\n",
    "\"\"\"df = pd.DataFrame.from_dict(yearXCount, orient='index')\n",
    "print(df.describe())\n",
    "df.plot(kind='bar', title='Number of Crime in each Year', figsize=(15, 10), legend=False, fontsize=12)\n",
    "plt.xlabel('Year', fontsize=12)\n",
    "plt.ylabel('Number of Crime', fontsize=12)\n",
    "plt.show()\"\"\""
   ]
  },
  {
   "cell_type": "markdown",
   "metadata": {},
   "source": [
    "<h2><b> Per Year Crime using Pipeline with Previous Query </h2></b>"
   ]
  },
  {
   "cell_type": "code",
   "execution_count": 17,
   "metadata": {},
   "outputs": [
    {
     "name": "stdout",
     "output_type": "stream",
     "text": [
      "2001  :  485903\n",
      "2002  :  486813\n",
      "2003  :  475987\n",
      "2004  :  469428\n",
      "2005  :  453776\n",
      "2006  :  448183\n",
      "2007  :  437090\n",
      "2008  :  427193\n",
      "2009  :  392835\n",
      "2010  :  370525\n",
      "2011  :  352006\n",
      "2012  :  336333\n",
      "2013  :  307552\n",
      "2014  :  275811\n",
      "2015  :  264823\n",
      "2016  :  269864\n",
      "2017  :  269138\n",
      "2018  :  268950\n",
      "2019  :  261410\n",
      "2020  :  212303\n",
      "2021  :  209032\n",
      "2022  :  239150\n",
      "2023  :  260476\n",
      "2024  :  10891\n",
      "Execution Time: 103.20 seconds\n"
     ]
    },
    {
     "data": {
      "text/plain": [
       "\"\\ndf = pd.DataFrame.from_dict(yearXCount, orient='index')\\nprint(df.describe())\\ndf.plot(kind='bar', title='Number of Crime in each Year',\\n        figsize=(15, 10), legend=False, fontsize=12)\\nplt.xlabel('Year', fontsize=12)\\nplt.ylabel('Number of Crime', fontsize=12)\\nplt.show()\\n\""
      ]
     },
     "execution_count": 17,
     "metadata": {},
     "output_type": "execute_result"
    }
   ],
   "source": [
    "# Record the start time\n",
    "start_time = time.time()\n",
    "\n",
    "# crime per year with previous query using pipeline\n",
    "yearXCount = {}\n",
    "for year_now in num_year:\n",
    "    requestData = {\n",
    "        'Year': year_now}\n",
    "    urlTest = DATABASE_URL + \"/query/aggregate/chicago/crime\"\n",
    "    pipeline = [\n",
    "        {\n",
    "            \"$match\": {\n",
    "                \"Year\": year_now\n",
    "            }\n",
    "        },\n",
    "        {\n",
    "            \"$group\": {\n",
    "                \"_id\": \"$Primary Type\",\n",
    "                \"count\": {\n",
    "                    \"$sum\": 1\n",
    "                }\n",
    "            }\n",
    "        },\n",
    "        {\n",
    "            \"$sort\": {\n",
    "                \"Year\": 1\n",
    "            }\n",
    "        },\n",
    "    ]\n",
    "    x = requests.get(urlTest, json=pipeline)\n",
    "    data = x.json()\n",
    "    # sum each crime category\n",
    "    tsum = sum([x['count'] for x in data])\n",
    "    print( year_now , \" : \" , tsum)\n",
    "    yearXCount[year_now] = tsum\n",
    "\n",
    "# Record the end time\n",
    "end_time = time.time()\n",
    "execution_time = end_time - start_time\n",
    "print(\"Execution Time: {:.2f} seconds\".format(execution_time))\n",
    "\n",
    "\"\"\"\n",
    "df = pd.DataFrame.from_dict(yearXCount, orient='index')\n",
    "print(df.describe())\n",
    "df.plot(kind='bar', title='Number of Crime in each Year',\n",
    "        figsize=(15, 10), legend=False, fontsize=12)\n",
    "plt.xlabel('Year', fontsize=12)\n",
    "plt.ylabel('Number of Crime', fontsize=12)\n",
    "plt.show()\n",
    "\"\"\""
   ]
  },
  {
   "cell_type": "markdown",
   "metadata": {},
   "source": [
    "<h2><b> Per Year Crime using Pipeline</h2></b>"
   ]
  },
  {
   "cell_type": "code",
   "execution_count": 35,
   "metadata": {},
   "outputs": [
    {
     "name": "stdout",
     "output_type": "stream",
     "text": [
      "2001  :  485903\n",
      "2002  :  486813\n",
      "2003  :  475987\n",
      "2004  :  469428\n",
      "2005  :  453776\n",
      "2006  :  448183\n",
      "2007  :  437090\n",
      "2008  :  427193\n",
      "2009  :  392835\n",
      "2010  :  370525\n",
      "2011  :  352006\n",
      "2012  :  336333\n",
      "2013  :  307552\n",
      "2014  :  275811\n",
      "2015  :  264823\n",
      "2016  :  269864\n",
      "2017  :  269138\n",
      "2018  :  268950\n",
      "2019  :  261410\n",
      "2020  :  212303\n",
      "2021  :  209032\n",
      "2022  :  239150\n",
      "2023  :  260476\n",
      "2024  :  10891\n",
      "Total Unique Years =  24\n",
      "Total Cases =  7985472\n",
      "Execution Time: 4.15 seconds\n"
     ]
    }
   ],
   "source": [
    "\"\"\"# crime per year without previous query\n",
    "yearXCount = {}\n",
    "urlTest = DATABASE_URL + \"/query/aggregate/chicago/crime\"\n",
    "pipeline = [\n",
    "    {\n",
    "        \"$group\": {\n",
    "            \"_id\": {\n",
    "                \"Year\": \"$Year\",\n",
    "                \"_id\": \"$Primary Type\"\n",
    "            },\n",
    "           \n",
    "            \"count\": {\n",
    "                \"$sum\": 1\n",
    "            }\n",
    "        }\n",
    "    },\n",
    "    {\n",
    "        \"$sort\": {\n",
    "            \"_id.Year\": 1\n",
    "        }\n",
    "    }\n",
    "\n",
    "]\n",
    "x = requests.get(urlTest, json=pipeline)\n",
    "data = x.json()\n",
    "# sum each crime category\n",
    "tsum = sum([x['count'] for x in data])\n",
    "print( year_now , \" : \" , tsum)\n",
    "yearXCount[year_now] = tsum\n",
    "\"\"\"\n",
    "\n",
    "# Record the start time\n",
    "start_time = time.time()\n",
    "\n",
    "#crime per type\n",
    "yearXCount = {}\n",
    "urlTest = DATABASE_URL + \"/query/aggregate/chicago/crime\"\n",
    "pipeline = [\n",
    "    {\n",
    "        \"$group\": {\n",
    "                \"_id\": \"$Year\",\n",
    "                \"Case Number per Year\" : {\"$sum\" : 1}\n",
    "        }\n",
    "    },\n",
    "    {\n",
    "        \"$sort\": {\n",
    "            \"_id\": 1\n",
    "        }\n",
    "    }\n",
    "]\n",
    "x = requests.get(urlTest, json=pipeline)\n",
    "data = x.json()\n",
    "tsum = sum([x['Case Number per Year'] for x in data])\n",
    "c = 0\n",
    "for doc in data:\n",
    "    #print(doc)\n",
    "    print( doc['_id'] , \" : \" , doc['Case Number per Year'])\n",
    "    yearXCount[doc['_id']] = doc['Case Number per Year']\n",
    "    c = c + 1\n",
    "\n",
    "# Record the end time\n",
    "end_time = time.time()\n",
    "execution_time = end_time - start_time\n",
    "\n",
    "\n",
    "\n",
    "print(\"Total Unique Years = \" , c)\n",
    "print(\"Total Cases = \" , tsum)\n",
    "print(\"Execution Time: {:.2f} seconds\".format(execution_time))\n",
    "        "
   ]
  },
  {
   "cell_type": "code",
   "execution_count": 19,
   "metadata": {},
   "outputs": [],
   "source": [
    "del x"
   ]
  },
  {
   "cell_type": "code",
   "execution_count": 20,
   "metadata": {},
   "outputs": [
    {
     "data": {
      "text/plain": [
       "\"data = x.json()\\nprint(data)\\n# save data in json file\\nwith open('chicago_crime_category_count.json', 'w') as outfile:\\n    json.dump(data, outfile)\\n    \\n    # sum each crime category\\n\\nyearXCount = {}\""
      ]
     },
     "execution_count": 20,
     "metadata": {},
     "output_type": "execute_result"
    }
   ],
   "source": [
    "\"\"\"data = x.json()\n",
    "print(data)\n",
    "# save data in json file\n",
    "with open('chicago_crime_category_count.json', 'w') as outfile:\n",
    "    json.dump(data, outfile)\n",
    "    \n",
    "    # sum each crime category\n",
    "\n",
    "yearXCount = {}\"\"\"\n"
   ]
  },
  {
   "cell_type": "markdown",
   "metadata": {},
   "source": [
    "<h2><b> Per Month Crime Withot using Pipeline</h2></b>"
   ]
  },
  {
   "cell_type": "code",
   "execution_count": 21,
   "metadata": {},
   "outputs": [
    {
     "name": "stdout",
     "output_type": "stream",
     "text": [
      "1  :  0\n",
      "2  :  0\n",
      "3  :  0\n",
      "4  :  0\n",
      "5  :  0\n",
      "6  :  0\n",
      "7  :  0\n",
      "8  :  0\n",
      "9  :  0\n",
      "10  :  0\n",
      "11  :  0\n",
      "12  :  0\n",
      "Execution Time: 52.77 seconds\n"
     ]
    },
    {
     "data": {
      "text/plain": [
       "\"\\ndf = pd.DataFrame.from_dict(monthXCount, orient='index')\\nprint(df.describe())\\ndf.plot(kind='bar', title='Number of Crime in each Month', figsize=(15, 10), legend=False, fontsize=12)\\nplt.xlabel('Month', fontsize=12)\\nplt.ylabel('Number of Crime', fontsize=12)\\nplt.show()\\n\""
      ]
     },
     "execution_count": 21,
     "metadata": {},
     "output_type": "execute_result"
    }
   ],
   "source": [
    "# crime per month without using pipeline\n",
    "\n",
    "# Record the start time\n",
    "start_time = time.time()\n",
    "\n",
    "monthXCount = {}\n",
    "for month_now in range(1,13):\n",
    "    requestData = {\n",
    "     'Month': month_now}\n",
    "    urlTest = DATABASE_URL + \"/query/find/chicago/crime\"\n",
    "    x = requests.get(urlTest, json=requestData)\n",
    "    data = x.json()\n",
    "    print( month_now , \" : \" , len(data))\n",
    "    monthXCount[month_now] = len(data)\n",
    "\n",
    "# Record the end time\n",
    "end_time = time.time()\n",
    "execution_time = end_time - start_time\n",
    "print(\"Execution Time: {:.2f} seconds\".format(execution_time))\n",
    "        \n",
    "        \n",
    "\"\"\"\n",
    "df = pd.DataFrame.from_dict(monthXCount, orient='index')\n",
    "print(df.describe())\n",
    "df.plot(kind='bar', title='Number of Crime in each Month', figsize=(15, 10), legend=False, fontsize=12)\n",
    "plt.xlabel('Month', fontsize=12)\n",
    "plt.ylabel('Number of Crime', fontsize=12)\n",
    "plt.show()\n",
    "\"\"\""
   ]
  },
  {
   "cell_type": "markdown",
   "metadata": {},
   "source": [
    "<h2><b>not working Per Month Crime using Pipeline</h2></b>"
   ]
  },
  {
   "cell_type": "code",
   "execution_count": 36,
   "metadata": {},
   "outputs": [
    {
     "ename": "JSONDecodeError",
     "evalue": "Expecting value: line 1 column 1 (char 0)",
     "output_type": "error",
     "traceback": [
      "\u001b[0;31m---------------------------------------------------------------------------\u001b[0m",
      "\u001b[0;31mJSONDecodeError\u001b[0m                           Traceback (most recent call last)",
      "File \u001b[0;32m~/anaconda3/lib/python3.11/site-packages/requests/models.py:971\u001b[0m, in \u001b[0;36mResponse.json\u001b[0;34m(self, **kwargs)\u001b[0m\n\u001b[1;32m    970\u001b[0m \u001b[38;5;28;01mtry\u001b[39;00m:\n\u001b[0;32m--> 971\u001b[0m     \u001b[38;5;28;01mreturn\u001b[39;00m complexjson\u001b[38;5;241m.\u001b[39mloads(\u001b[38;5;28mself\u001b[39m\u001b[38;5;241m.\u001b[39mtext, \u001b[38;5;241m*\u001b[39m\u001b[38;5;241m*\u001b[39mkwargs)\n\u001b[1;32m    972\u001b[0m \u001b[38;5;28;01mexcept\u001b[39;00m JSONDecodeError \u001b[38;5;28;01mas\u001b[39;00m e:\n\u001b[1;32m    973\u001b[0m     \u001b[38;5;66;03m# Catch JSON-related errors and raise as requests.JSONDecodeError\u001b[39;00m\n\u001b[1;32m    974\u001b[0m     \u001b[38;5;66;03m# This aliases json.JSONDecodeError and simplejson.JSONDecodeError\u001b[39;00m\n",
      "File \u001b[0;32m~/anaconda3/lib/python3.11/json/__init__.py:346\u001b[0m, in \u001b[0;36mloads\u001b[0;34m(s, cls, object_hook, parse_float, parse_int, parse_constant, object_pairs_hook, **kw)\u001b[0m\n\u001b[1;32m    343\u001b[0m \u001b[38;5;28;01mif\u001b[39;00m (\u001b[38;5;28mcls\u001b[39m \u001b[38;5;129;01mis\u001b[39;00m \u001b[38;5;28;01mNone\u001b[39;00m \u001b[38;5;129;01mand\u001b[39;00m object_hook \u001b[38;5;129;01mis\u001b[39;00m \u001b[38;5;28;01mNone\u001b[39;00m \u001b[38;5;129;01mand\u001b[39;00m\n\u001b[1;32m    344\u001b[0m         parse_int \u001b[38;5;129;01mis\u001b[39;00m \u001b[38;5;28;01mNone\u001b[39;00m \u001b[38;5;129;01mand\u001b[39;00m parse_float \u001b[38;5;129;01mis\u001b[39;00m \u001b[38;5;28;01mNone\u001b[39;00m \u001b[38;5;129;01mand\u001b[39;00m\n\u001b[1;32m    345\u001b[0m         parse_constant \u001b[38;5;129;01mis\u001b[39;00m \u001b[38;5;28;01mNone\u001b[39;00m \u001b[38;5;129;01mand\u001b[39;00m object_pairs_hook \u001b[38;5;129;01mis\u001b[39;00m \u001b[38;5;28;01mNone\u001b[39;00m \u001b[38;5;129;01mand\u001b[39;00m \u001b[38;5;129;01mnot\u001b[39;00m kw):\n\u001b[0;32m--> 346\u001b[0m     \u001b[38;5;28;01mreturn\u001b[39;00m _default_decoder\u001b[38;5;241m.\u001b[39mdecode(s)\n\u001b[1;32m    347\u001b[0m \u001b[38;5;28;01mif\u001b[39;00m \u001b[38;5;28mcls\u001b[39m \u001b[38;5;129;01mis\u001b[39;00m \u001b[38;5;28;01mNone\u001b[39;00m:\n",
      "File \u001b[0;32m~/anaconda3/lib/python3.11/json/decoder.py:337\u001b[0m, in \u001b[0;36mJSONDecoder.decode\u001b[0;34m(self, s, _w)\u001b[0m\n\u001b[1;32m    333\u001b[0m \u001b[38;5;250m\u001b[39m\u001b[38;5;124;03m\"\"\"Return the Python representation of ``s`` (a ``str`` instance\u001b[39;00m\n\u001b[1;32m    334\u001b[0m \u001b[38;5;124;03mcontaining a JSON document).\u001b[39;00m\n\u001b[1;32m    335\u001b[0m \n\u001b[1;32m    336\u001b[0m \u001b[38;5;124;03m\"\"\"\u001b[39;00m\n\u001b[0;32m--> 337\u001b[0m obj, end \u001b[38;5;241m=\u001b[39m \u001b[38;5;28mself\u001b[39m\u001b[38;5;241m.\u001b[39mraw_decode(s, idx\u001b[38;5;241m=\u001b[39m_w(s, \u001b[38;5;241m0\u001b[39m)\u001b[38;5;241m.\u001b[39mend())\n\u001b[1;32m    338\u001b[0m end \u001b[38;5;241m=\u001b[39m _w(s, end)\u001b[38;5;241m.\u001b[39mend()\n",
      "File \u001b[0;32m~/anaconda3/lib/python3.11/json/decoder.py:355\u001b[0m, in \u001b[0;36mJSONDecoder.raw_decode\u001b[0;34m(self, s, idx)\u001b[0m\n\u001b[1;32m    354\u001b[0m \u001b[38;5;28;01mexcept\u001b[39;00m \u001b[38;5;167;01mStopIteration\u001b[39;00m \u001b[38;5;28;01mas\u001b[39;00m err:\n\u001b[0;32m--> 355\u001b[0m     \u001b[38;5;28;01mraise\u001b[39;00m JSONDecodeError(\u001b[38;5;124m\"\u001b[39m\u001b[38;5;124mExpecting value\u001b[39m\u001b[38;5;124m\"\u001b[39m, s, err\u001b[38;5;241m.\u001b[39mvalue) \u001b[38;5;28;01mfrom\u001b[39;00m \u001b[38;5;28;01mNone\u001b[39;00m\n\u001b[1;32m    356\u001b[0m \u001b[38;5;28;01mreturn\u001b[39;00m obj, end\n",
      "\u001b[0;31mJSONDecodeError\u001b[0m: Expecting value: line 1 column 1 (char 0)",
      "\nDuring handling of the above exception, another exception occurred:\n",
      "\u001b[0;31mJSONDecodeError\u001b[0m                           Traceback (most recent call last)",
      "Cell \u001b[0;32mIn[36], line 45\u001b[0m\n\u001b[1;32m      9\u001b[0m pipeline \u001b[38;5;241m=\u001b[39m [\n\u001b[1;32m     10\u001b[0m     {\n\u001b[1;32m     11\u001b[0m         \u001b[38;5;124m\"\u001b[39m\u001b[38;5;124m$addFields\u001b[39m\u001b[38;5;124m\"\u001b[39m: {\n\u001b[0;32m   (...)\u001b[0m\n\u001b[1;32m     41\u001b[0m     }\n\u001b[1;32m     42\u001b[0m ]\n\u001b[1;32m     43\u001b[0m x \u001b[38;5;241m=\u001b[39m requests\u001b[38;5;241m.\u001b[39mget(urlTest, json\u001b[38;5;241m=\u001b[39mpipeline)\n\u001b[0;32m---> 45\u001b[0m data \u001b[38;5;241m=\u001b[39m x\u001b[38;5;241m.\u001b[39mjson()\n\u001b[1;32m     46\u001b[0m \u001b[38;5;66;03m#tsum = sum([x['average_cases_per_month'] for x in data])\u001b[39;00m\n\u001b[1;32m     47\u001b[0m c \u001b[38;5;241m=\u001b[39m \u001b[38;5;241m0\u001b[39m\n",
      "File \u001b[0;32m~/anaconda3/lib/python3.11/site-packages/requests/models.py:975\u001b[0m, in \u001b[0;36mResponse.json\u001b[0;34m(self, **kwargs)\u001b[0m\n\u001b[1;32m    971\u001b[0m     \u001b[38;5;28;01mreturn\u001b[39;00m complexjson\u001b[38;5;241m.\u001b[39mloads(\u001b[38;5;28mself\u001b[39m\u001b[38;5;241m.\u001b[39mtext, \u001b[38;5;241m*\u001b[39m\u001b[38;5;241m*\u001b[39mkwargs)\n\u001b[1;32m    972\u001b[0m \u001b[38;5;28;01mexcept\u001b[39;00m JSONDecodeError \u001b[38;5;28;01mas\u001b[39;00m e:\n\u001b[1;32m    973\u001b[0m     \u001b[38;5;66;03m# Catch JSON-related errors and raise as requests.JSONDecodeError\u001b[39;00m\n\u001b[1;32m    974\u001b[0m     \u001b[38;5;66;03m# This aliases json.JSONDecodeError and simplejson.JSONDecodeError\u001b[39;00m\n\u001b[0;32m--> 975\u001b[0m     \u001b[38;5;28;01mraise\u001b[39;00m RequestsJSONDecodeError(e\u001b[38;5;241m.\u001b[39mmsg, e\u001b[38;5;241m.\u001b[39mdoc, e\u001b[38;5;241m.\u001b[39mpos)\n",
      "\u001b[0;31mJSONDecodeError\u001b[0m: Expecting value: line 1 column 1 (char 0)"
     ]
    }
   ],
   "source": [
    "#per month crime using pipeline\n",
    "\n",
    "# Record the start time\n",
    "start_time = time.time()\n",
    "\n",
    "#crime per type\n",
    "monthXCount = {}\n",
    "urlTest = DATABASE_URL + \"/query/aggregate/chicago/crime\"\n",
    "pipeline = [\n",
    "    {\n",
    "        \"$addFields\": {\n",
    "            \"dateComponents\": {\n",
    "                \"$split\": [\n",
    "                    {\"$arrayElemAt\": [{\"$split\": [\"$Date\", \" \"]}, 0]}, \"/\"\n",
    "                ]\n",
    "            }\n",
    "        }\n",
    "    },\n",
    "    {\n",
    "        \"$addFields\": {\n",
    "            \"date\": {\n",
    "                \"$dateFromParts\": {\n",
    "                    \"year\": {\"$toInt\": {\"$arrayElemAt\": [\"$dateComponents\", 2]}} ,\n",
    "                    \"month\": {\"$toInt\": {\"$arrayElemAt\": [\"$dateComponents\", 0]}},\n",
    "                }\n",
    "            }\n",
    "        }\n",
    "    },\n",
    "    {\n",
    "        \"$group\": {\n",
    "            \"_id\": {\"month\": {\"$month\": \"$date\"}},\n",
    "            \"total_cases\": {\"$sum\": 1},\n",
    "        }\n",
    "    },\n",
    "    {\n",
    "        \"$project\": {\n",
    "            \"_id\": 0,\n",
    "            \"month\": \"$_id.month\",\n",
    "            \"total_cases\": 1,\n",
    "        }\n",
    "    }\n",
    "]\n",
    "x = requests.get(urlTest, json=pipeline)\n",
    "\n",
    "data = x.json()\n",
    "#tsum = sum([x['average_cases_per_month'] for x in data])\n",
    "c = 0\n",
    "for doc in data:\n",
    "    print(doc)\n",
    "    #monthXCount[doc['_id']] = doc['average_cases_per_month']\n",
    "    c = c + 1\n",
    "\n",
    "# Record the end time\n",
    "end_time = time.time()\n",
    "execution_time = end_time - start_time\n",
    "\n",
    "\n",
    "print(\"Total months = \" , c)\n",
    "#print(\"Total Cases = \" , tsum)\n",
    "print(\"Execution Time: {:.2f} seconds\".format(execution_time))\n",
    "        "
   ]
  },
  {
   "cell_type": "code",
   "execution_count": null,
   "metadata": {},
   "outputs": [],
   "source": [
    "'''\n",
    "# per discrict, per year crime count\n",
    "for police_dept_now in Police_dept_name:\n",
    "    yearXCount = {}\n",
    "    for year_now in num_year:\n",
    "        requestData = {\n",
    "         'year': year_now,\n",
    "         'district': police_dept_now}\n",
    "        urlTest = DATABASE_URL + \"/query/find/chicago/crime\"\n",
    "        x = requests.get(urlTest, json=requestData)\n",
    "        data = x.json()\n",
    "        # print( year_now , \" : \" , len(data))\n",
    "        yearXCount[year_now] = len(data)\n",
    "    df = pd.DataFrame.from_dict(yearXCount, orient='index')\n",
    "    print(df.describe())\n",
    "    df.plot(kind='bar', title='Number of Crime in each Year in Police Department '+str(police_dept_now), figsize=(15, 10), legend=False, fontsize=12)\n",
    "    plt.xlabel('Year', fontsize=12)\n",
    "    plt.ylabel('Number of Crime', fontsize=12)\n",
    "    plt.show()\n",
    "'''\n"
   ]
  },
  {
   "cell_type": "code",
   "execution_count": 37,
   "metadata": {},
   "outputs": [
    {
     "name": "stdout",
     "output_type": "stream",
     "text": [
      "2024  :  0\n",
      "2024  :  0\n",
      "2024  :  0\n"
     ]
    },
    {
     "ename": "KeyboardInterrupt",
     "evalue": "",
     "output_type": "error",
     "traceback": [
      "\u001b[0;31m---------------------------------------------------------------------------\u001b[0m",
      "\u001b[0;31mKeyboardInterrupt\u001b[0m                         Traceback (most recent call last)",
      "Cell \u001b[0;32mIn[37], line 12\u001b[0m\n\u001b[1;32m      8\u001b[0m requestData \u001b[38;5;241m=\u001b[39m {\n\u001b[1;32m      9\u001b[0m  \u001b[38;5;124m'\u001b[39m\u001b[38;5;124mmonth\u001b[39m\u001b[38;5;124m'\u001b[39m: month_now,\n\u001b[1;32m     10\u001b[0m  \u001b[38;5;124m'\u001b[39m\u001b[38;5;124mdistrict\u001b[39m\u001b[38;5;124m'\u001b[39m: police_dept_now}\n\u001b[1;32m     11\u001b[0m urlTest \u001b[38;5;241m=\u001b[39m DATABASE_URL \u001b[38;5;241m+\u001b[39m \u001b[38;5;124m\"\u001b[39m\u001b[38;5;124m/query/find/chicago/crime\u001b[39m\u001b[38;5;124m\"\u001b[39m\n\u001b[0;32m---> 12\u001b[0m x \u001b[38;5;241m=\u001b[39m requests\u001b[38;5;241m.\u001b[39mget(urlTest, json\u001b[38;5;241m=\u001b[39mrequestData)\n\u001b[1;32m     13\u001b[0m data \u001b[38;5;241m=\u001b[39m x\u001b[38;5;241m.\u001b[39mjson()\n\u001b[1;32m     14\u001b[0m \u001b[38;5;28mprint\u001b[39m( year_now , \u001b[38;5;124m\"\u001b[39m\u001b[38;5;124m : \u001b[39m\u001b[38;5;124m\"\u001b[39m , \u001b[38;5;28mlen\u001b[39m(data))\n",
      "File \u001b[0;32m~/anaconda3/lib/python3.11/site-packages/requests/api.py:73\u001b[0m, in \u001b[0;36mget\u001b[0;34m(url, params, **kwargs)\u001b[0m\n\u001b[1;32m     62\u001b[0m \u001b[38;5;28;01mdef\u001b[39;00m \u001b[38;5;21mget\u001b[39m(url, params\u001b[38;5;241m=\u001b[39m\u001b[38;5;28;01mNone\u001b[39;00m, \u001b[38;5;241m*\u001b[39m\u001b[38;5;241m*\u001b[39mkwargs):\n\u001b[1;32m     63\u001b[0m \u001b[38;5;250m    \u001b[39m\u001b[38;5;124mr\u001b[39m\u001b[38;5;124;03m\"\"\"Sends a GET request.\u001b[39;00m\n\u001b[1;32m     64\u001b[0m \n\u001b[1;32m     65\u001b[0m \u001b[38;5;124;03m    :param url: URL for the new :class:`Request` object.\u001b[39;00m\n\u001b[0;32m   (...)\u001b[0m\n\u001b[1;32m     70\u001b[0m \u001b[38;5;124;03m    :rtype: requests.Response\u001b[39;00m\n\u001b[1;32m     71\u001b[0m \u001b[38;5;124;03m    \"\"\"\u001b[39;00m\n\u001b[0;32m---> 73\u001b[0m     \u001b[38;5;28;01mreturn\u001b[39;00m request(\u001b[38;5;124m\"\u001b[39m\u001b[38;5;124mget\u001b[39m\u001b[38;5;124m\"\u001b[39m, url, params\u001b[38;5;241m=\u001b[39mparams, \u001b[38;5;241m*\u001b[39m\u001b[38;5;241m*\u001b[39mkwargs)\n",
      "File \u001b[0;32m~/anaconda3/lib/python3.11/site-packages/requests/api.py:59\u001b[0m, in \u001b[0;36mrequest\u001b[0;34m(method, url, **kwargs)\u001b[0m\n\u001b[1;32m     55\u001b[0m \u001b[38;5;66;03m# By using the 'with' statement we are sure the session is closed, thus we\u001b[39;00m\n\u001b[1;32m     56\u001b[0m \u001b[38;5;66;03m# avoid leaving sockets open which can trigger a ResourceWarning in some\u001b[39;00m\n\u001b[1;32m     57\u001b[0m \u001b[38;5;66;03m# cases, and look like a memory leak in others.\u001b[39;00m\n\u001b[1;32m     58\u001b[0m \u001b[38;5;28;01mwith\u001b[39;00m sessions\u001b[38;5;241m.\u001b[39mSession() \u001b[38;5;28;01mas\u001b[39;00m session:\n\u001b[0;32m---> 59\u001b[0m     \u001b[38;5;28;01mreturn\u001b[39;00m session\u001b[38;5;241m.\u001b[39mrequest(method\u001b[38;5;241m=\u001b[39mmethod, url\u001b[38;5;241m=\u001b[39murl, \u001b[38;5;241m*\u001b[39m\u001b[38;5;241m*\u001b[39mkwargs)\n",
      "File \u001b[0;32m~/anaconda3/lib/python3.11/site-packages/requests/sessions.py:589\u001b[0m, in \u001b[0;36mSession.request\u001b[0;34m(self, method, url, params, data, headers, cookies, files, auth, timeout, allow_redirects, proxies, hooks, stream, verify, cert, json)\u001b[0m\n\u001b[1;32m    584\u001b[0m send_kwargs \u001b[38;5;241m=\u001b[39m {\n\u001b[1;32m    585\u001b[0m     \u001b[38;5;124m\"\u001b[39m\u001b[38;5;124mtimeout\u001b[39m\u001b[38;5;124m\"\u001b[39m: timeout,\n\u001b[1;32m    586\u001b[0m     \u001b[38;5;124m\"\u001b[39m\u001b[38;5;124mallow_redirects\u001b[39m\u001b[38;5;124m\"\u001b[39m: allow_redirects,\n\u001b[1;32m    587\u001b[0m }\n\u001b[1;32m    588\u001b[0m send_kwargs\u001b[38;5;241m.\u001b[39mupdate(settings)\n\u001b[0;32m--> 589\u001b[0m resp \u001b[38;5;241m=\u001b[39m \u001b[38;5;28mself\u001b[39m\u001b[38;5;241m.\u001b[39msend(prep, \u001b[38;5;241m*\u001b[39m\u001b[38;5;241m*\u001b[39msend_kwargs)\n\u001b[1;32m    591\u001b[0m \u001b[38;5;28;01mreturn\u001b[39;00m resp\n",
      "File \u001b[0;32m~/anaconda3/lib/python3.11/site-packages/requests/sessions.py:703\u001b[0m, in \u001b[0;36mSession.send\u001b[0;34m(self, request, **kwargs)\u001b[0m\n\u001b[1;32m    700\u001b[0m start \u001b[38;5;241m=\u001b[39m preferred_clock()\n\u001b[1;32m    702\u001b[0m \u001b[38;5;66;03m# Send the request\u001b[39;00m\n\u001b[0;32m--> 703\u001b[0m r \u001b[38;5;241m=\u001b[39m adapter\u001b[38;5;241m.\u001b[39msend(request, \u001b[38;5;241m*\u001b[39m\u001b[38;5;241m*\u001b[39mkwargs)\n\u001b[1;32m    705\u001b[0m \u001b[38;5;66;03m# Total elapsed time of the request (approximately)\u001b[39;00m\n\u001b[1;32m    706\u001b[0m elapsed \u001b[38;5;241m=\u001b[39m preferred_clock() \u001b[38;5;241m-\u001b[39m start\n",
      "File \u001b[0;32m~/anaconda3/lib/python3.11/site-packages/requests/adapters.py:486\u001b[0m, in \u001b[0;36mHTTPAdapter.send\u001b[0;34m(self, request, stream, timeout, verify, cert, proxies)\u001b[0m\n\u001b[1;32m    483\u001b[0m     timeout \u001b[38;5;241m=\u001b[39m TimeoutSauce(connect\u001b[38;5;241m=\u001b[39mtimeout, read\u001b[38;5;241m=\u001b[39mtimeout)\n\u001b[1;32m    485\u001b[0m \u001b[38;5;28;01mtry\u001b[39;00m:\n\u001b[0;32m--> 486\u001b[0m     resp \u001b[38;5;241m=\u001b[39m conn\u001b[38;5;241m.\u001b[39murlopen(\n\u001b[1;32m    487\u001b[0m         method\u001b[38;5;241m=\u001b[39mrequest\u001b[38;5;241m.\u001b[39mmethod,\n\u001b[1;32m    488\u001b[0m         url\u001b[38;5;241m=\u001b[39murl,\n\u001b[1;32m    489\u001b[0m         body\u001b[38;5;241m=\u001b[39mrequest\u001b[38;5;241m.\u001b[39mbody,\n\u001b[1;32m    490\u001b[0m         headers\u001b[38;5;241m=\u001b[39mrequest\u001b[38;5;241m.\u001b[39mheaders,\n\u001b[1;32m    491\u001b[0m         redirect\u001b[38;5;241m=\u001b[39m\u001b[38;5;28;01mFalse\u001b[39;00m,\n\u001b[1;32m    492\u001b[0m         assert_same_host\u001b[38;5;241m=\u001b[39m\u001b[38;5;28;01mFalse\u001b[39;00m,\n\u001b[1;32m    493\u001b[0m         preload_content\u001b[38;5;241m=\u001b[39m\u001b[38;5;28;01mFalse\u001b[39;00m,\n\u001b[1;32m    494\u001b[0m         decode_content\u001b[38;5;241m=\u001b[39m\u001b[38;5;28;01mFalse\u001b[39;00m,\n\u001b[1;32m    495\u001b[0m         retries\u001b[38;5;241m=\u001b[39m\u001b[38;5;28mself\u001b[39m\u001b[38;5;241m.\u001b[39mmax_retries,\n\u001b[1;32m    496\u001b[0m         timeout\u001b[38;5;241m=\u001b[39mtimeout,\n\u001b[1;32m    497\u001b[0m         chunked\u001b[38;5;241m=\u001b[39mchunked,\n\u001b[1;32m    498\u001b[0m     )\n\u001b[1;32m    500\u001b[0m \u001b[38;5;28;01mexcept\u001b[39;00m (ProtocolError, \u001b[38;5;167;01mOSError\u001b[39;00m) \u001b[38;5;28;01mas\u001b[39;00m err:\n\u001b[1;32m    501\u001b[0m     \u001b[38;5;28;01mraise\u001b[39;00m \u001b[38;5;167;01mConnectionError\u001b[39;00m(err, request\u001b[38;5;241m=\u001b[39mrequest)\n",
      "File \u001b[0;32m~/anaconda3/lib/python3.11/site-packages/urllib3/connectionpool.py:714\u001b[0m, in \u001b[0;36mHTTPConnectionPool.urlopen\u001b[0;34m(self, method, url, body, headers, retries, redirect, assert_same_host, timeout, pool_timeout, release_conn, chunked, body_pos, **response_kw)\u001b[0m\n\u001b[1;32m    711\u001b[0m     \u001b[38;5;28mself\u001b[39m\u001b[38;5;241m.\u001b[39m_prepare_proxy(conn)\n\u001b[1;32m    713\u001b[0m \u001b[38;5;66;03m# Make the request on the httplib connection object.\u001b[39;00m\n\u001b[0;32m--> 714\u001b[0m httplib_response \u001b[38;5;241m=\u001b[39m \u001b[38;5;28mself\u001b[39m\u001b[38;5;241m.\u001b[39m_make_request(\n\u001b[1;32m    715\u001b[0m     conn,\n\u001b[1;32m    716\u001b[0m     method,\n\u001b[1;32m    717\u001b[0m     url,\n\u001b[1;32m    718\u001b[0m     timeout\u001b[38;5;241m=\u001b[39mtimeout_obj,\n\u001b[1;32m    719\u001b[0m     body\u001b[38;5;241m=\u001b[39mbody,\n\u001b[1;32m    720\u001b[0m     headers\u001b[38;5;241m=\u001b[39mheaders,\n\u001b[1;32m    721\u001b[0m     chunked\u001b[38;5;241m=\u001b[39mchunked,\n\u001b[1;32m    722\u001b[0m )\n\u001b[1;32m    724\u001b[0m \u001b[38;5;66;03m# If we're going to release the connection in ``finally:``, then\u001b[39;00m\n\u001b[1;32m    725\u001b[0m \u001b[38;5;66;03m# the response doesn't need to know about the connection. Otherwise\u001b[39;00m\n\u001b[1;32m    726\u001b[0m \u001b[38;5;66;03m# it will also try to release it and we'll have a double-release\u001b[39;00m\n\u001b[1;32m    727\u001b[0m \u001b[38;5;66;03m# mess.\u001b[39;00m\n\u001b[1;32m    728\u001b[0m response_conn \u001b[38;5;241m=\u001b[39m conn \u001b[38;5;28;01mif\u001b[39;00m \u001b[38;5;129;01mnot\u001b[39;00m release_conn \u001b[38;5;28;01melse\u001b[39;00m \u001b[38;5;28;01mNone\u001b[39;00m\n",
      "File \u001b[0;32m~/anaconda3/lib/python3.11/site-packages/urllib3/connectionpool.py:466\u001b[0m, in \u001b[0;36mHTTPConnectionPool._make_request\u001b[0;34m(self, conn, method, url, timeout, chunked, **httplib_request_kw)\u001b[0m\n\u001b[1;32m    461\u001b[0m             httplib_response \u001b[38;5;241m=\u001b[39m conn\u001b[38;5;241m.\u001b[39mgetresponse()\n\u001b[1;32m    462\u001b[0m         \u001b[38;5;28;01mexcept\u001b[39;00m \u001b[38;5;167;01mBaseException\u001b[39;00m \u001b[38;5;28;01mas\u001b[39;00m e:\n\u001b[1;32m    463\u001b[0m             \u001b[38;5;66;03m# Remove the TypeError from the exception chain in\u001b[39;00m\n\u001b[1;32m    464\u001b[0m             \u001b[38;5;66;03m# Python 3 (including for exceptions like SystemExit).\u001b[39;00m\n\u001b[1;32m    465\u001b[0m             \u001b[38;5;66;03m# Otherwise it looks like a bug in the code.\u001b[39;00m\n\u001b[0;32m--> 466\u001b[0m             six\u001b[38;5;241m.\u001b[39mraise_from(e, \u001b[38;5;28;01mNone\u001b[39;00m)\n\u001b[1;32m    467\u001b[0m \u001b[38;5;28;01mexcept\u001b[39;00m (SocketTimeout, BaseSSLError, SocketError) \u001b[38;5;28;01mas\u001b[39;00m e:\n\u001b[1;32m    468\u001b[0m     \u001b[38;5;28mself\u001b[39m\u001b[38;5;241m.\u001b[39m_raise_timeout(err\u001b[38;5;241m=\u001b[39me, url\u001b[38;5;241m=\u001b[39murl, timeout_value\u001b[38;5;241m=\u001b[39mread_timeout)\n",
      "File \u001b[0;32m<string>:3\u001b[0m, in \u001b[0;36mraise_from\u001b[0;34m(value, from_value)\u001b[0m\n",
      "File \u001b[0;32m~/anaconda3/lib/python3.11/site-packages/urllib3/connectionpool.py:461\u001b[0m, in \u001b[0;36mHTTPConnectionPool._make_request\u001b[0;34m(self, conn, method, url, timeout, chunked, **httplib_request_kw)\u001b[0m\n\u001b[1;32m    458\u001b[0m \u001b[38;5;28;01mexcept\u001b[39;00m \u001b[38;5;167;01mTypeError\u001b[39;00m:\n\u001b[1;32m    459\u001b[0m     \u001b[38;5;66;03m# Python 3\u001b[39;00m\n\u001b[1;32m    460\u001b[0m     \u001b[38;5;28;01mtry\u001b[39;00m:\n\u001b[0;32m--> 461\u001b[0m         httplib_response \u001b[38;5;241m=\u001b[39m conn\u001b[38;5;241m.\u001b[39mgetresponse()\n\u001b[1;32m    462\u001b[0m     \u001b[38;5;28;01mexcept\u001b[39;00m \u001b[38;5;167;01mBaseException\u001b[39;00m \u001b[38;5;28;01mas\u001b[39;00m e:\n\u001b[1;32m    463\u001b[0m         \u001b[38;5;66;03m# Remove the TypeError from the exception chain in\u001b[39;00m\n\u001b[1;32m    464\u001b[0m         \u001b[38;5;66;03m# Python 3 (including for exceptions like SystemExit).\u001b[39;00m\n\u001b[1;32m    465\u001b[0m         \u001b[38;5;66;03m# Otherwise it looks like a bug in the code.\u001b[39;00m\n\u001b[1;32m    466\u001b[0m         six\u001b[38;5;241m.\u001b[39mraise_from(e, \u001b[38;5;28;01mNone\u001b[39;00m)\n",
      "File \u001b[0;32m~/anaconda3/lib/python3.11/http/client.py:1378\u001b[0m, in \u001b[0;36mHTTPConnection.getresponse\u001b[0;34m(self)\u001b[0m\n\u001b[1;32m   1376\u001b[0m \u001b[38;5;28;01mtry\u001b[39;00m:\n\u001b[1;32m   1377\u001b[0m     \u001b[38;5;28;01mtry\u001b[39;00m:\n\u001b[0;32m-> 1378\u001b[0m         response\u001b[38;5;241m.\u001b[39mbegin()\n\u001b[1;32m   1379\u001b[0m     \u001b[38;5;28;01mexcept\u001b[39;00m \u001b[38;5;167;01mConnectionError\u001b[39;00m:\n\u001b[1;32m   1380\u001b[0m         \u001b[38;5;28mself\u001b[39m\u001b[38;5;241m.\u001b[39mclose()\n",
      "File \u001b[0;32m~/anaconda3/lib/python3.11/http/client.py:318\u001b[0m, in \u001b[0;36mHTTPResponse.begin\u001b[0;34m(self)\u001b[0m\n\u001b[1;32m    316\u001b[0m \u001b[38;5;66;03m# read until we get a non-100 response\u001b[39;00m\n\u001b[1;32m    317\u001b[0m \u001b[38;5;28;01mwhile\u001b[39;00m \u001b[38;5;28;01mTrue\u001b[39;00m:\n\u001b[0;32m--> 318\u001b[0m     version, status, reason \u001b[38;5;241m=\u001b[39m \u001b[38;5;28mself\u001b[39m\u001b[38;5;241m.\u001b[39m_read_status()\n\u001b[1;32m    319\u001b[0m     \u001b[38;5;28;01mif\u001b[39;00m status \u001b[38;5;241m!=\u001b[39m CONTINUE:\n\u001b[1;32m    320\u001b[0m         \u001b[38;5;28;01mbreak\u001b[39;00m\n",
      "File \u001b[0;32m~/anaconda3/lib/python3.11/http/client.py:279\u001b[0m, in \u001b[0;36mHTTPResponse._read_status\u001b[0;34m(self)\u001b[0m\n\u001b[1;32m    278\u001b[0m \u001b[38;5;28;01mdef\u001b[39;00m \u001b[38;5;21m_read_status\u001b[39m(\u001b[38;5;28mself\u001b[39m):\n\u001b[0;32m--> 279\u001b[0m     line \u001b[38;5;241m=\u001b[39m \u001b[38;5;28mstr\u001b[39m(\u001b[38;5;28mself\u001b[39m\u001b[38;5;241m.\u001b[39mfp\u001b[38;5;241m.\u001b[39mreadline(_MAXLINE \u001b[38;5;241m+\u001b[39m \u001b[38;5;241m1\u001b[39m), \u001b[38;5;124m\"\u001b[39m\u001b[38;5;124miso-8859-1\u001b[39m\u001b[38;5;124m\"\u001b[39m)\n\u001b[1;32m    280\u001b[0m     \u001b[38;5;28;01mif\u001b[39;00m \u001b[38;5;28mlen\u001b[39m(line) \u001b[38;5;241m>\u001b[39m _MAXLINE:\n\u001b[1;32m    281\u001b[0m         \u001b[38;5;28;01mraise\u001b[39;00m LineTooLong(\u001b[38;5;124m\"\u001b[39m\u001b[38;5;124mstatus line\u001b[39m\u001b[38;5;124m\"\u001b[39m)\n",
      "File \u001b[0;32m~/anaconda3/lib/python3.11/socket.py:706\u001b[0m, in \u001b[0;36mSocketIO.readinto\u001b[0;34m(self, b)\u001b[0m\n\u001b[1;32m    704\u001b[0m \u001b[38;5;28;01mwhile\u001b[39;00m \u001b[38;5;28;01mTrue\u001b[39;00m:\n\u001b[1;32m    705\u001b[0m     \u001b[38;5;28;01mtry\u001b[39;00m:\n\u001b[0;32m--> 706\u001b[0m         \u001b[38;5;28;01mreturn\u001b[39;00m \u001b[38;5;28mself\u001b[39m\u001b[38;5;241m.\u001b[39m_sock\u001b[38;5;241m.\u001b[39mrecv_into(b)\n\u001b[1;32m    707\u001b[0m     \u001b[38;5;28;01mexcept\u001b[39;00m timeout:\n\u001b[1;32m    708\u001b[0m         \u001b[38;5;28mself\u001b[39m\u001b[38;5;241m.\u001b[39m_timeout_occurred \u001b[38;5;241m=\u001b[39m \u001b[38;5;28;01mTrue\u001b[39;00m\n",
      "\u001b[0;31mKeyboardInterrupt\u001b[0m: "
     ]
    }
   ],
   "source": [
    "# Record the start time\n",
    "start_time = time.time()\n",
    "\n",
    "# per discrict, per month crime count\n",
    "for police_dept_now in Police_dept_name:\n",
    "    monthXCount = {}\n",
    "    for month_now in range(1,13):\n",
    "        requestData = {\n",
    "         'month': month_now,\n",
    "         'district': police_dept_now}\n",
    "        urlTest = DATABASE_URL + \"/query/find/chicago/crime\"\n",
    "        x = requests.get(urlTest, json=requestData)\n",
    "        data = x.json()\n",
    "        print( year_now , \" : \" , len(data))\n",
    "        monthXCount[month_now] = len(data)\n",
    "# Record the end time\n",
    "end_time = time.time()\n",
    "execution_time = end_time - start_time\n",
    "print(\"Execution Time: {:.2f} seconds\".format(execution_time))\n",
    "\"\"\"    \n",
    "    df = pd.DataFrame.from_dict(monthXCount, orient='index')\n",
    "    print(df.describe())\n",
    "    df.plot(kind='bar', title='Number of Crime in each Year in Police Department '+str(police_dept_now), figsize=(15, 10), legend=False, fontsize=12)\n",
    "    plt.xlabel('Month', fontsize=12)\n",
    "    plt.ylabel('Number of Crime', fontsize=12)\n",
    "    plt.show()\"\"\"\n"
   ]
  },
  {
   "cell_type": "markdown",
   "metadata": {},
   "source": [
    "<h1><b>Unique Primary Types without Pipeline</h1></b>"
   ]
  },
  {
   "cell_type": "code",
   "execution_count": null,
   "metadata": {},
   "outputs": [
    {
     "name": "stdout",
     "output_type": "stream",
     "text": [
      "Unique Primary Types = \n",
      " ['ARSON', 'ASSAULT', 'BATTERY', 'BURGLARY', 'CONCEALED CARRY LICENSE VIOLATION', 'CRIM SEXUAL ASSAULT', 'CRIMINAL DAMAGE', 'CRIMINAL SEXUAL ASSAULT', 'CRIMINAL TRESPASS', 'DECEPTIVE PRACTICE', 'DOMESTIC VIOLENCE', 'GAMBLING', 'HOMICIDE', 'HUMAN TRAFFICKING', 'INTERFERENCE WITH PUBLIC OFFICER', 'INTIMIDATION', 'KIDNAPPING', 'LIQUOR LAW VIOLATION', 'MOTOR VEHICLE THEFT', 'NARCOTICS', 'NON - CRIMINAL', 'NON-CRIMINAL', 'NON-CRIMINAL (SUBJECT SPECIFIED)', 'OBSCENITY', 'OFFENSE INVOLVING CHILDREN', 'OTHER NARCOTIC VIOLATION', 'OTHER OFFENSE', 'PROSTITUTION', 'PUBLIC INDECENCY', 'PUBLIC PEACE VIOLATION', 'RITUALISM', 'ROBBERY', 'SEX OFFENSE', 'STALKING', 'THEFT', 'WEAPONS VIOLATION']\n",
      "Number of Primary Types =  36\n",
      "Execution Time: 8.65 seconds\n"
     ]
    }
   ],
   "source": [
    "# Record the start time\n",
    "start_time = time.time()\n",
    "\n",
    "requestData = {\n",
    "    'field' : 'Primary Type'}\n",
    "urlTest = DATABASE_URL + \"/query/unique/chicago/crime\"\n",
    "x = requests.get(urlTest, json=requestData)\n",
    "primary_types = x.json()\n",
    "print(\"Unique Primary Types = \\n\",primary_types)\n",
    "print(\"Number of Primary Types = \",len(primary_types))\n",
    "\n",
    "# Record the end time\n",
    "end_time = time.time()\n",
    "execution_time = end_time - start_time\n",
    "print(\"Execution Time: {:.2f} seconds\".format(execution_time))"
   ]
  },
  {
   "cell_type": "markdown",
   "metadata": {},
   "source": [
    "<h1><b>Unique Primary Types and their amount/number using aggregate</h1></b>"
   ]
  },
  {
   "cell_type": "code",
   "execution_count": null,
   "metadata": {},
   "outputs": [
    {
     "name": "stdout",
     "output_type": "stream",
     "text": [
      "{'Case Number per Type': 56434, '_id': 'OFFENSE INVOLVING CHILDREN'}\n",
      "{'Case Number per Type': 52629, '_id': 'PUBLIC PEACE VIOLATION'}\n",
      "{'Case Number per Type': 109637, '_id': 'WEAPONS VIOLATION'}\n",
      "{'Case Number per Type': 101, '_id': 'HUMAN TRAFFICKING'}\n",
      "{'Case Number per Type': 7375, '_id': 'CRIMINAL SEXUAL ASSAULT'}\n",
      "{'Case Number per Type': 196, '_id': 'PUBLIC INDECENCY'}\n",
      "{'Case Number per Type': 4759, '_id': 'INTIMIDATION'}\n",
      "{'Case Number per Type': 1662431, '_id': 'THEFT'}\n",
      "{'Case Number per Type': 489017, '_id': 'OTHER OFFENSE'}\n",
      "{'Case Number per Type': 1438944, '_id': 'BATTERY'}\n",
      "{'Case Number per Type': 27584, '_id': 'CRIM SEXUAL ASSAULT'}\n",
      "{'Case Number per Type': 183, '_id': 'NON-CRIMINAL'}\n",
      "{'Case Number per Type': 31285, '_id': 'SEX OFFENSE'}\n",
      "{'Case Number per Type': 215869, '_id': 'CRIMINAL TRESPASS'}\n",
      "{'Case Number per Type': 385652, '_id': 'MOTOR VEHICLE THEFT'}\n",
      "{'Case Number per Type': 18568, '_id': 'INTERFERENCE WITH PUBLIC OFFICER'}\n",
      "{'Case Number per Type': 69902, '_id': 'PROSTITUTION'}\n",
      "{'Case Number per Type': 14971, '_id': 'LIQUOR LAW VIOLATION'}\n",
      "{'Case Number per Type': 13433, '_id': 'ARSON'}\n",
      "{'Case Number per Type': 351195, '_id': 'DECEPTIVE PRACTICE'}\n",
      "{'Case Number per Type': 898141, '_id': 'CRIMINAL DAMAGE'}\n",
      "{'Case Number per Type': 1148, '_id': 'CONCEALED CARRY LICENSE VIOLATION'}\n",
      "{'Case Number per Type': 12804, '_id': 'HOMICIDE'}\n",
      "{'Case Number per Type': 1, '_id': 'DOMESTIC VIOLENCE'}\n",
      "{'Case Number per Type': 426912, '_id': 'BURGLARY'}\n",
      "{'Case Number per Type': 9, '_id': 'NON-CRIMINAL (SUBJECT SPECIFIED)'}\n",
      "{'Case Number per Type': 24, '_id': 'RITUALISM'}\n",
      "{'Case Number per Type': 14623, '_id': 'GAMBLING'}\n",
      "{'Case Number per Type': 749273, '_id': 'NARCOTICS'}\n",
      "{'Case Number per Type': 7283, '_id': 'KIDNAPPING'}\n",
      "{'Case Number per Type': 38, '_id': 'NON - CRIMINAL'}\n",
      "{'Case Number per Type': 4977, '_id': 'STALKING'}\n",
      "{'Case Number per Type': 296043, '_id': 'ROBBERY'}\n",
      "{'Case Number per Type': 149, '_id': 'OTHER NARCOTIC VIOLATION'}\n",
      "{'Case Number per Type': 515376, '_id': 'ASSAULT'}\n",
      "{'Case Number per Type': 834, '_id': 'OBSCENITY'}\n",
      "Total Unique Types =  36\n",
      "Total Cases =  7877800\n",
      "Execution Time: 8.66 seconds\n"
     ]
    }
   ],
   "source": [
    "# Record the start time\n",
    "start_time = time.time()\n",
    "\n",
    "#crime per type\n",
    "typeXCount = {}\n",
    "#for type_now in primary_types:\n",
    "    #requestData = {\n",
    "     #'Primary Type': type_now}\n",
    "urlTest = DATABASE_URL + \"/query/aggregate/chicago/crime\"\n",
    "pipeline = [\n",
    "    {\n",
    "        \"$group\": {\n",
    "                \"_id\": \"$Primary Type\",\n",
    "                \"Case Number per Type\" : {\"$sum\" : 1}\n",
    "        }\n",
    "    }\n",
    "]\n",
    "x = requests.get(urlTest, json=pipeline)\n",
    "data = x.json()\n",
    "tsum = sum([x['Case Number per Type'] for x in data])\n",
    "c = 0\n",
    "for doc in data:\n",
    "    print(doc)\n",
    "    typeXCount[doc['_id']] = doc['Case Number per Type']\n",
    "    c = c + 1\n",
    "\n",
    "# Record the end time\n",
    "end_time = time.time()\n",
    "execution_time = end_time - start_time\n",
    "\n",
    "\n",
    "print(\"Total Unique Types = \" , c)\n",
    "print(\"Total Cases = \" , tsum)\n",
    "print(\"Execution Time: {:.2f} seconds\".format(execution_time))\n",
    "        "
   ]
  },
  {
   "cell_type": "markdown",
   "metadata": {},
   "source": [
    "<h1><b>Arrest Statistics:</b></h1>"
   ]
  },
  {
   "cell_type": "code",
   "execution_count": null,
   "metadata": {},
   "outputs": [
    {
     "name": "stdout",
     "output_type": "stream",
     "text": [
      "{'True/False': 5832073, '_id': 'False'}\n",
      "{'True/False': 2045727, '_id': 'True'}\n",
      "Total Arrest Types =  2\n",
      "Total Cases =  7877800\n",
      "Execution Time: 6.93 seconds\n"
     ]
    }
   ],
   "source": [
    "# Record the start time\n",
    "start_time = time.time()\n",
    "\n",
    "#Arrest count\n",
    "arrestXCount = {}\n",
    "urlTest = DATABASE_URL + \"/query/aggregate/chicago/crime\"\n",
    "pipeline = [\n",
    "    {\n",
    "        \"$group\": {\n",
    "                \"_id\": \"$Arrest\",\n",
    "                \"True/False\" : {\"$sum\" : 1}\n",
    "        }\n",
    "    }\n",
    "]\n",
    "x = requests.get(urlTest, json=pipeline)\n",
    "data = x.json()\n",
    "tsum = sum([x['True/False'] for x in data])\n",
    "c = 0\n",
    "for doc in data:\n",
    "    print(doc)\n",
    "    arrestXCount[doc['_id']] = doc['True/False']\n",
    "    c = c + 1\n",
    "\n",
    "# Record the end time\n",
    "end_time = time.time()\n",
    "execution_time = end_time - start_time\n",
    "\n",
    "\n",
    "print(\"Total Arrest Types = \" , c)\n",
    "print(\"Total Cases = \" , tsum)\n",
    "print(\"Execution Time: {:.2f} seconds\".format(execution_time))\n",
    "        "
   ]
  },
  {
   "cell_type": "code",
   "execution_count": null,
   "metadata": {},
   "outputs": [],
   "source": [
    "del x"
   ]
  },
  {
   "cell_type": "markdown",
   "metadata": {},
   "source": [
    "<h1><b> Top 10 Locations with the Most Cases: </b></h1>"
   ]
  },
  {
   "cell_type": "code",
   "execution_count": null,
   "metadata": {},
   "outputs": [
    {
     "name": "stdout",
     "output_type": "stream",
     "text": [
      "{'Number of Cases': 2054736, '_id': 'STREET'}\n",
      "{'Number of Cases': 1317192, '_id': 'RESIDENCE'}\n",
      "{'Number of Cases': 896128, '_id': 'APARTMENT'}\n",
      "{'Number of Cases': 733872, '_id': 'SIDEWALK'}\n",
      "{'Number of Cases': 270026, '_id': 'OTHER'}\n",
      "{'Number of Cases': 202977, '_id': 'PARKING LOT/GARAGE(NON.RESID.)'}\n",
      "{'Number of Cases': 175129, '_id': 'ALLEY'}\n",
      "{'Number of Cases': 149649, '_id': 'SMALL RETAIL STORE'}\n",
      "{'Number of Cases': 146378, '_id': 'SCHOOL, PUBLIC, BUILDING'}\n",
      "{'Number of Cases': 135535, '_id': 'RESIDENCE-GARAGE'}\n",
      "Total Cases in Top 10 Locations=  6081622\n",
      "Execution Time: 7.01 seconds\n"
     ]
    }
   ],
   "source": [
    "# Record the start time\n",
    "start_time = time.time()\n",
    "\n",
    "#Arrest count\n",
    "locationXCount = {}\n",
    "urlTest = DATABASE_URL + \"/query/aggregate/chicago/crime\"\n",
    "pipeline = [\n",
    "    {\n",
    "        \"$group\": {\n",
    "                \"_id\": \"$Location Description\",\n",
    "                \"Number of Cases\" : {\"$sum\" : 1}\n",
    "        }\n",
    "    },\n",
    "    {\n",
    "        \"$sort\": {\n",
    "            \"Number of Cases\": -1\n",
    "        }\n",
    "    },\n",
    "    {\n",
    "        \"$limit\": 10\n",
    "    }\n",
    "]\n",
    "x = requests.get(urlTest, json=pipeline)\n",
    "data = x.json()\n",
    "tsum = sum([x['Number of Cases'] for x in data])\n",
    "c = 0\n",
    "for doc in data:\n",
    "    print(doc)\n",
    "    arrestXCount[doc['_id']] = doc['Number of Cases']\n",
    "    c = c + 1\n",
    "\n",
    "# Record the end time\n",
    "end_time = time.time()\n",
    "execution_time = end_time - start_time\n",
    "\n",
    "\n",
    "print(\"Total Cases in Top 10 Locations= \" , tsum)\n",
    "print(\"Execution Time: {:.2f} seconds\".format(execution_time))\n",
    "        "
   ]
  },
  {
   "cell_type": "code",
   "execution_count": null,
   "metadata": {},
   "outputs": [],
   "source": [
    "del x"
   ]
  },
  {
   "cell_type": "markdown",
   "metadata": {},
   "source": [
    "<h1><b>Average Cases A Year</b></h1>"
   ]
  },
  {
   "cell_type": "code",
   "execution_count": null,
   "metadata": {},
   "outputs": [
    {
     "name": "stdout",
     "output_type": "stream",
     "text": [
      "Average Cases per Year: 342513.04347826086\n",
      "Execution Time: 7.29 seconds\n"
     ]
    }
   ],
   "source": [
    "# Record the start time\n",
    "start_time = time.time()\n",
    "\n",
    "urlTest = DATABASE_URL + \"/query/aggregate/chicago/crime\"\n",
    "pipeline = [\n",
    "    {\n",
    "        \"$group\": {\n",
    "            \"_id\": \"$Year\",\n",
    "            \"total_cases\": {\"$sum\": 1},\n",
    "        }\n",
    "    },\n",
    "    {\n",
    "        \"$group\": {\n",
    "            \"_id\": None,\n",
    "            \"average_cases_per_year\": {\"$avg\": \"$total_cases\"},\n",
    "        }\n",
    "    }\n",
    "]\n",
    "x = requests.get(urlTest, json=pipeline)\n",
    "data = x.json()\n",
    "\n",
    "# Access the results from the response\n",
    "for doc in data:\n",
    "    average_cases_per_year = doc[\"average_cases_per_year\"]\n",
    "    print(f\"Average Cases per Year: {average_cases_per_year}\")\n",
    "\n",
    "# Record the end time\n",
    "end_time = time.time()\n",
    "execution_time = end_time - start_time\n",
    "print(\"Execution Time: {:.2f} seconds\".format(execution_time))\n",
    "        "
   ]
  },
  {
   "cell_type": "code",
   "execution_count": null,
   "metadata": {},
   "outputs": [],
   "source": [
    "del x"
   ]
  }
 ],
 "metadata": {
  "kernelspec": {
   "display_name": "invokeai",
   "language": "python",
   "name": "python3"
  },
  "language_info": {
   "codemirror_mode": {
    "name": "ipython",
    "version": 3
   },
   "file_extension": ".py",
   "mimetype": "text/x-python",
   "name": "python",
   "nbconvert_exporter": "python",
   "pygments_lexer": "ipython3",
   "version": "3.11.5"
  },
  "orig_nbformat": 4
 },
 "nbformat": 4,
 "nbformat_minor": 2
}
