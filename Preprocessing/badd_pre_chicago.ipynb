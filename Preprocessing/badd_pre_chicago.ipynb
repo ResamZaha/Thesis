{
 "cells": [
  {
   "cell_type": "code",
   "execution_count": null,
   "metadata": {},
   "outputs": [],
   "source": [
    "# For data processing\n",
    "import numpy as np\n",
    "from math import sqrt\n",
    "# For data processing and manipulation\n",
    "import pandas as pd\n",
    "import csv\n",
    " \n",
    "# For date calculations\n",
    "import datetime\n",
    "import time\n",
    " \n",
    "# For ploting data\n",
    "import IPython\n",
    "import IPython.display\n",
    " \n",
    "import itertools\n",
    "from itertools import cycle\n",
    "import matplotlib as mpl\n",
    "import matplotlib.pyplot as plt\n",
    "import seaborn as sns\n",
    "%matplotlib inline\n",
    " \n",
    "# For checking path\n",
    "import os , gc\n",
    "from os import path\n",
    "import csv\n",
    "import json\n",
    " \n",
    " \n",
    "from scipy.stats import hmean\n",
    " \n",
    "from sklearn.metrics import mean_squared_error\n",
    "import requests\n",
    "\n",
    "import ipywidgets as widgets\n",
    "from ipywidgets import interact, interact_manual\n",
    " "
   ]
  },
  {
   "cell_type": "code",
   "execution_count": null,
   "metadata": {},
   "outputs": [],
   "source": [
    "# !wget https://github.com/trishume/OpenTuringCompiler/blob/master/stdlib-sfml/fonts/Times%20New%20Roman.ttf -P /usr/local/lib/python3.6/dist-packages/matplotlib/mpl-data/fonts/ttf"
   ]
  },
  {
   "cell_type": "code",
   "execution_count": null,
   "metadata": {},
   "outputs": [],
   "source": [
    "plt.rcParams['font.family'] = 'serif'\n",
    "plt.rcParams['font.serif'] = ['Times New Roman'] + plt.rcParams['font.serif']"
   ]
  },
  {
   "cell_type": "code",
   "execution_count": null,
   "metadata": {},
   "outputs": [],
   "source": [
    "DATABASE_URL = \"http://127.0.0.1:5000/\""
   ]
  },
  {
   "cell_type": "code",
   "execution_count": null,
   "metadata": {},
   "outputs": [],
   "source": [
    "ROOTPATH = 'C:\\\\Study\\\\CSE 4000\\\\New folder\\\\Thesis\\\\'\n",
    "PATH_IMAGE = ROOTPATH+'images_chicago\\\\'\n",
    "PATH_DA = ROOTPATH+\"dataset\\\\chicago_data_for_da.csv\"\n",
    "PATH_PDA = ROOTPATH+\"dataset\\\\chicago_data_chicago_for_police_da.csv\""
   ]
  },
  {
   "cell_type": "code",
   "execution_count": null,
   "metadata": {},
   "outputs": [],
   "source": [
    "date_after = pd.to_datetime(\"1/1/2004  00:00:00 AM\")\n",
    "date_before = pd.to_datetime(\"1/1/2018  00:00:00 AM\")"
   ]
  },
  {
   "cell_type": "code",
   "execution_count": null,
   "metadata": {},
   "outputs": [],
   "source": [
    "dataset = pd.read_csv(ROOTPATH+'dataset\\\\Crimes_-_2001_to_Present.csv')"
   ]
  },
  {
   "cell_type": "code",
   "execution_count": null,
   "metadata": {},
   "outputs": [],
   "source": [
    "print(dataset.shape)\n",
    "columns = dataset.columns\n",
    "filtered_columns = [\"ID\", \"Case Number\", \"Date\", \"IUCR\", \"Primary Type\", \"Description\", \"Location Description\", \"Arrest\", \"District\", \"X Coordinate\", \"Y Coordinate\", \"Year\"]\n",
    "dataset = dataset[filtered_columns]\n",
    "dataset.head()"
   ]
  },
  {
   "cell_type": "code",
   "execution_count": null,
   "metadata": {},
   "outputs": [],
   "source": [
    "#convert date to datetime\n",
    "dataset['Date'] = pd.to_datetime(dataset['Date'], format='%m/%d/%Y %I:%M:%S %p')\n",
    "#date -> year, month, day, hour, minute\n",
    "dataset['Year'] = dataset['Date'].dt.year\n",
    "dataset['Month'] = dataset['Date'].dt.month\n",
    "dataset['Day'] = dataset['Date'].dt.day\n",
    "dataset['Hour'] = dataset['Date'].dt.hour\n",
    "dataset['Minute'] = dataset['Date'].dt.minute\n"
   ]
  },
  {
   "cell_type": "code",
   "execution_count": null,
   "metadata": {},
   "outputs": [],
   "source": [
    "# sort dataset by date \n",
    "dataset = dataset.sort_values(by=['Date'])"
   ]
  },
  {
   "cell_type": "code",
   "execution_count": null,
   "metadata": {},
   "outputs": [],
   "source": [
    "dataset.head()"
   ]
  },
  {
   "cell_type": "code",
   "execution_count": null,
   "metadata": {},
   "outputs": [],
   "source": [
    "class CrimeModel:\n",
    "    def __init__(self, day=-1,month=-1,year=-1,\n",
    "                 hour=-1,minute=-1, primary_type=\"\", \n",
    "                 description=\"\", arrest=False,\n",
    "                 district=-1, x_coordinate=-1, y_coordinate=-1):\n",
    "        \n",
    "        # self.id = int(id)\n",
    "        # self.case_number = str(case_number)\n",
    "        self.day = int(day)\n",
    "        self.month = int(month)\n",
    "        self.year = int(year)\n",
    "        self.hour = int(hour)\n",
    "        self.minute = int(minute)\n",
    "        # self.iucr = str(iucr)\n",
    "        self.primary_type = primary_type\n",
    "        self.description = description\n",
    "        # self.location_description = location_description\n",
    "        self.arrest = bool(arrest)\n",
    "        self.district = int(district)\n",
    "        self.x_coordinate = float(x_coordinate)\n",
    "        self.y_coordinate = float(y_coordinate)\n",
    "        self.year = int(year)"
   ]
  },
  {
   "cell_type": "code",
   "execution_count": null,
   "metadata": {},
   "outputs": [],
   "source": [
    "columns_now = dataset.columns\n",
    "columns_now = columns_now.drop(['Date'])\n",
    "columns_now = columns_now.drop(['ID'])\n",
    "columns_now = columns_now.drop(['Case Number'])\n",
    "columns_now = columns_now.drop(['Location Description'])\n",
    "columns_now = columns_now.drop(['IUCR'])\n",
    "\n",
    "dataset_now = dataset[columns_now]"
   ]
  },
  {
   "cell_type": "code",
   "execution_count": null,
   "metadata": {},
   "outputs": [],
   "source": [
    "print(columns_now)\n",
    "print(dataset_now.shape)"
   ]
  },
  {
   "cell_type": "code",
   "execution_count": null,
   "metadata": {},
   "outputs": [],
   "source": [
    "for column in columns_now:\n",
    "    print(\"before\" , column, dataset_now[column].isnull().sum())\n",
    "    dataset_now = dataset_now.drop( index= dataset_now.loc[dataset_now[column].isnull()].index)\n",
    "    dataset_now = dataset_now.reset_index(drop= True)\n",
    "    print(\"after\", column, dataset_now[column].isnull().sum())"
   ]
  },
  {
   "cell_type": "code",
   "execution_count": null,
   "metadata": {},
   "outputs": [],
   "source": [
    "print(dataset_now.shape)\n",
    "dataset_now.head()\n",
    "#convert each column to corresponding type in CrimeModel\n",
    "\n",
    "dataset_now['day'] = dataset_now['Day'].astype(int)\n",
    "dataset_now['month'] = dataset_now['Month'].astype(int)\n",
    "dataset_now['year'] = dataset_now['Year'].astype(int)\n",
    "dataset_now['hour'] = dataset_now['Hour'].astype(int)\n",
    "dataset_now['minute'] = dataset_now['Minute'].astype(int)\n",
    "dataset_now['primary_type'] = dataset_now['Primary Type']\n",
    "dataset_now['description'] = dataset_now['Description']\n",
    "# dataset_now['location_description'] = dataset_now['Location Description']\n",
    "dataset_now['arrest'] = dataset_now['Arrest'].astype(bool)\n",
    "dataset_now['district'] = dataset_now['District'].astype(int)\n",
    "dataset_now['x_coordinate'] = dataset_now['X Coordinate'].astype(float)\n",
    "dataset_now['y_coordinate'] = dataset_now['Y Coordinate'].astype(float)"
   ]
  },
  {
   "cell_type": "code",
   "execution_count": null,
   "metadata": {},
   "outputs": [],
   "source": [
    "columns = ['day', 'month', 'year', 'hour', 'minute', 'primary_type', 'description', 'arrest', 'district', 'x_coordinate', 'y_coordinate']\n",
    "dataset_now = dataset_now[columns]\n",
    "dataset_now.head()"
   ]
  },
  {
   "cell_type": "code",
   "execution_count": null,
   "metadata": {},
   "outputs": [],
   "source": [
    "dataset_now.to_csv(PATH_DA, index= False)"
   ]
  },
  {
   "cell_type": "code",
   "execution_count": null,
   "metadata": {},
   "outputs": [],
   "source": [
    "# test = dataset.values[0]\n",
    "# y = dataset.columns\n",
    "# for x in range(len(test)):\n",
    "#     print(x, y[x],test[x])\n",
    "# datasetValues = dataset.values\n",
    "# from IPython.display import clear_output\n",
    "\n",
    "# def checkNull(crime):\n",
    "#     res = False\n",
    "#     for x in crime:\n",
    "#         if x == None:\n",
    "#             res = True\n",
    "#             break\n",
    "#     return res\n",
    "\n",
    "# for test in datasetValues:\n",
    "#     try:\n",
    "#         if checkNull(test):\n",
    "#             continue\n",
    "        \n",
    "#         crimeChicagoTest = CrimeModel(id=test[0], case_number=test[1], day=test[13], month=test[12], year=test[11],\n",
    "#                                        hour=test[14], minute=test[15], \n",
    "#                                        iucr=test[3], primary_type=test[4],\n",
    "#                                         description=test[5],\n",
    "#                                         location_description=test[6], arrest=test[7], district=test[8], x_coordinate=test[9], y_coordinate=test[10])\n",
    "#         urlTest = DATABASE_URL + \"add/crime\"\n",
    "#         request_data = crimeChicagoTest.__dict__\n",
    "#         request_data['chicago_crime'] = True\n",
    "\n",
    "#         requests.post(urlTest, json=crimeChicagoTest.__dict__)\n",
    "#     except Exception as e:\n",
    "#         clear_output()\n",
    "#         print(e)\n",
    "        "
   ]
  },
  {
   "cell_type": "code",
   "execution_count": null,
   "metadata": {},
   "outputs": [],
   "source": [
    "# requestData = {\n",
    "#  'block': '014XX W 115TH ST',\n",
    "#  'primary_type': 'CRIMINAL DAMAGE',\n",
    "#  'description': 'TO PROPERTY',\n",
    "#  'location_description': 'RESIDENCE',\n",
    "#  'arrest': False,\n",
    "#  'domestic': False,\n",
    "#  'beat': 524,\n",
    "#  'district': 5,\n",
    "#  'ward': 34,\n",
    "#  'community_area': 53,\n",
    "#  'FBIcode': '14',\n",
    "#  'x_coordinate': 1168895.0,\n",
    "#  'y_coordinate': 1828486.0,\n",
    "#  'year': 2015,\n",
    "#  'latitude': 41.684878352,\n",
    "#  'longitude': -87.657350466}\n"
   ]
  },
  {
   "cell_type": "code",
   "execution_count": null,
   "metadata": {},
   "outputs": [],
   "source": [
    "requestData = {\n",
    " 'primary_type': 'CRIMINAL DAMAGE',\n",
    " 'location_description': 'RESIDENCE',\n",
    " 'arrest': False}\n",
    "\n",
    "urlTest = DATABASE_URL + \"query/find/chicago/crime\"\n",
    "x = requests.get(urlTest, json=requestData)\n",
    "print(len(x.json()))"
   ]
  },
  {
   "cell_type": "code",
   "execution_count": null,
   "metadata": {},
   "outputs": [],
   "source": []
  }
 ],
 "metadata": {
  "kernelspec": {
   "display_name": "invokeai",
   "language": "python",
   "name": "python3"
  },
  "language_info": {
   "codemirror_mode": {
    "name": "ipython",
    "version": 3
   },
   "file_extension": ".py",
   "mimetype": "text/x-python",
   "name": "python",
   "nbconvert_exporter": "python",
   "pygments_lexer": "ipython3",
   "version": "3.11.5"
  },
  "orig_nbformat": 4
 },
 "nbformat": 4,
 "nbformat_minor": 2
}
