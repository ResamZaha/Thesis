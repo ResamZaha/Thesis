{
 "cells": [
  {
   "cell_type": "code",
   "execution_count": 1,
   "metadata": {},
   "outputs": [],
   "source": [
    "import pandas as pd\n",
    "import matplotlib.pyplot as plt"
   ]
  },
  {
   "cell_type": "code",
   "execution_count": 2,
   "metadata": {},
   "outputs": [],
   "source": [
    "plt.rcParams['font.family'] = 'serif'\n",
    "plt.rcParams['font.serif'] = ['Times New Roman'] + plt.rcParams['font.serif']"
   ]
  },
  {
   "cell_type": "code",
   "execution_count": 3,
   "metadata": {},
   "outputs": [],
   "source": [
    "ROOTPATH = 'D:\\\\Eimu\\\\Thesis\\\\'\n",
    "PATH_IMAGE = ROOTPATH+'images_chicago\\\\'\n",
    "PATH_WEAT_CHI = ROOTPATH+\"dataset\\\\processed_weather_data_chicago_2004_2023.csv\""
   ]
  },
  {
   "cell_type": "code",
   "execution_count": 4,
   "metadata": {},
   "outputs": [],
   "source": [
    "dataset = pd.read_csv(ROOTPATH+'dataset\\\\weather_data_chicago_2004_2023.csv')"
   ]
  },
  {
   "cell_type": "code",
   "execution_count": 5,
   "metadata": {},
   "outputs": [
    {
     "name": "stdout",
     "output_type": "stream",
     "text": [
      "(194331, 16)\n"
     ]
    },
    {
     "data": {
      "text/html": [
       "<div>\n",
       "<style scoped>\n",
       "    .dataframe tbody tr th:only-of-type {\n",
       "        vertical-align: middle;\n",
       "    }\n",
       "\n",
       "    .dataframe tbody tr th {\n",
       "        vertical-align: top;\n",
       "    }\n",
       "\n",
       "    .dataframe thead th {\n",
       "        text-align: right;\n",
       "    }\n",
       "</style>\n",
       "<table border=\"1\" class=\"dataframe\">\n",
       "  <thead>\n",
       "    <tr style=\"text-align: right;\">\n",
       "      <th></th>\n",
       "      <th>Unnamed: 0</th>\n",
       "      <th>expire_time_gmt</th>\n",
       "      <th>valid_time_gmt</th>\n",
       "      <th>temp</th>\n",
       "      <th>wx_phrase</th>\n",
       "      <th>heat_index</th>\n",
       "      <th>rh</th>\n",
       "      <th>pressure</th>\n",
       "      <th>vis</th>\n",
       "      <th>wc</th>\n",
       "      <th>wdir</th>\n",
       "      <th>wspd</th>\n",
       "      <th>max_temp</th>\n",
       "      <th>min_temp</th>\n",
       "      <th>expire_date_time</th>\n",
       "      <th>valid_date_time</th>\n",
       "    </tr>\n",
       "  </thead>\n",
       "  <tbody>\n",
       "    <tr>\n",
       "      <th>0</th>\n",
       "      <td>0</td>\n",
       "      <td>1072943580</td>\n",
       "      <td>1072936380</td>\n",
       "      <td>-1.0</td>\n",
       "      <td>Mostly Cloudy</td>\n",
       "      <td>-1.0</td>\n",
       "      <td>59.0</td>\n",
       "      <td>1003.99</td>\n",
       "      <td>16.0</td>\n",
       "      <td>-1.0</td>\n",
       "      <td>10.0</td>\n",
       "      <td>6.0</td>\n",
       "      <td>2.0</td>\n",
       "      <td>-2.0</td>\n",
       "      <td>01/01/2004 14:00:00</td>\n",
       "      <td>01/01/2004 12:00:00</td>\n",
       "    </tr>\n",
       "    <tr>\n",
       "      <th>1</th>\n",
       "      <td>1</td>\n",
       "      <td>1072947180</td>\n",
       "      <td>1072939980</td>\n",
       "      <td>-1.0</td>\n",
       "      <td>Mostly Cloudy</td>\n",
       "      <td>-1.0</td>\n",
       "      <td>61.0</td>\n",
       "      <td>1004.08</td>\n",
       "      <td>16.0</td>\n",
       "      <td>-4.0</td>\n",
       "      <td>20.0</td>\n",
       "      <td>9.0</td>\n",
       "      <td>NaN</td>\n",
       "      <td>NaN</td>\n",
       "      <td>01/01/2004 15:00:00</td>\n",
       "      <td>01/01/2004 13:00:00</td>\n",
       "    </tr>\n",
       "    <tr>\n",
       "      <th>2</th>\n",
       "      <td>2</td>\n",
       "      <td>1072950780</td>\n",
       "      <td>1072943580</td>\n",
       "      <td>-1.0</td>\n",
       "      <td>Mostly Cloudy</td>\n",
       "      <td>-1.0</td>\n",
       "      <td>57.0</td>\n",
       "      <td>1004.38</td>\n",
       "      <td>16.0</td>\n",
       "      <td>-1.0</td>\n",
       "      <td>NaN</td>\n",
       "      <td>NaN</td>\n",
       "      <td>NaN</td>\n",
       "      <td>NaN</td>\n",
       "      <td>01/01/2004 16:00:00</td>\n",
       "      <td>01/01/2004 14:00:00</td>\n",
       "    </tr>\n",
       "    <tr>\n",
       "      <th>3</th>\n",
       "      <td>3</td>\n",
       "      <td>1072954380</td>\n",
       "      <td>1072947180</td>\n",
       "      <td>-1.0</td>\n",
       "      <td>Mostly Cloudy</td>\n",
       "      <td>-1.0</td>\n",
       "      <td>64.0</td>\n",
       "      <td>1004.67</td>\n",
       "      <td>16.0</td>\n",
       "      <td>-3.0</td>\n",
       "      <td>90.0</td>\n",
       "      <td>7.0</td>\n",
       "      <td>NaN</td>\n",
       "      <td>NaN</td>\n",
       "      <td>01/01/2004 17:00:00</td>\n",
       "      <td>01/01/2004 15:00:00</td>\n",
       "    </tr>\n",
       "    <tr>\n",
       "      <th>4</th>\n",
       "      <td>4</td>\n",
       "      <td>1072957980</td>\n",
       "      <td>1072950780</td>\n",
       "      <td>-1.0</td>\n",
       "      <td>Mostly Cloudy</td>\n",
       "      <td>-1.0</td>\n",
       "      <td>69.0</td>\n",
       "      <td>1004.18</td>\n",
       "      <td>16.0</td>\n",
       "      <td>-1.0</td>\n",
       "      <td>110.0</td>\n",
       "      <td>6.0</td>\n",
       "      <td>NaN</td>\n",
       "      <td>NaN</td>\n",
       "      <td>01/01/2004 18:00:00</td>\n",
       "      <td>01/01/2004 16:00:00</td>\n",
       "    </tr>\n",
       "  </tbody>\n",
       "</table>\n",
       "</div>"
      ],
      "text/plain": [
       "   Unnamed: 0  expire_time_gmt  valid_time_gmt  temp      wx_phrase  \\\n",
       "0           0       1072943580      1072936380  -1.0  Mostly Cloudy   \n",
       "1           1       1072947180      1072939980  -1.0  Mostly Cloudy   \n",
       "2           2       1072950780      1072943580  -1.0  Mostly Cloudy   \n",
       "3           3       1072954380      1072947180  -1.0  Mostly Cloudy   \n",
       "4           4       1072957980      1072950780  -1.0  Mostly Cloudy   \n",
       "\n",
       "   heat_index    rh  pressure   vis   wc   wdir  wspd  max_temp  min_temp  \\\n",
       "0        -1.0  59.0   1003.99  16.0 -1.0   10.0   6.0       2.0      -2.0   \n",
       "1        -1.0  61.0   1004.08  16.0 -4.0   20.0   9.0       NaN       NaN   \n",
       "2        -1.0  57.0   1004.38  16.0 -1.0    NaN   NaN       NaN       NaN   \n",
       "3        -1.0  64.0   1004.67  16.0 -3.0   90.0   7.0       NaN       NaN   \n",
       "4        -1.0  69.0   1004.18  16.0 -1.0  110.0   6.0       NaN       NaN   \n",
       "\n",
       "      expire_date_time      valid_date_time  \n",
       "0  01/01/2004 14:00:00  01/01/2004 12:00:00  \n",
       "1  01/01/2004 15:00:00  01/01/2004 13:00:00  \n",
       "2  01/01/2004 16:00:00  01/01/2004 14:00:00  \n",
       "3  01/01/2004 17:00:00  01/01/2004 15:00:00  \n",
       "4  01/01/2004 18:00:00  01/01/2004 16:00:00  "
      ]
     },
     "execution_count": 5,
     "metadata": {},
     "output_type": "execute_result"
    }
   ],
   "source": [
    "print(dataset.shape)\n",
    "columns = dataset.columns\n",
    "#filtered_columns = [\"ID\", \"Case Number\", \"Date\", \"IUCR\", \"Primary Type\", \"Description\", \"Location Description\", \"Arrest\", \"District\", \"X Coordinate\", \"Y Coordinate\", \"Year\"]\n",
    "#dataset = dataset[filtered_columns]\n",
    "dataset.head()"
   ]
  },
  {
   "cell_type": "code",
   "execution_count": 14,
   "metadata": {},
   "outputs": [
    {
     "data": {
      "text/plain": [
       "\"#convert expire_date_time to datetime\\ndataset['expire_date_time'] = pd.to_datetime(dataset['expire_date_time'], format='%d/%m/%Y %H:%M:%S')\\n#date -> year, month, day, hour, minute\\ndataset['Expire_Year'] = dataset['expire_date_time'].dt.year\\ndataset['Expire_Month'] = dataset['expire_date_time'].dt.month\\ndataset['Expire_Day'] = dataset['expire_date_time'].dt.day\\ndataset['Expire_Hour'] = dataset['expire_date_time'].dt.hour\\ndataset['Expire_Minute'] = dataset['expire_date_time'].dt.minute\\n#convert valid_date_time to datetime\\ndataset['valid_date_time'] = pd.to_datetime(dataset['valid_date_time'], format='%d/%m/%Y %H:%M:%S')\\n#date -> year, month, day, hour, minute\\ndataset['Valid_Year'] = dataset['valid_date_time'].dt.year\\ndataset['Valid_Month'] = dataset['valid_date_time'].dt.month\\ndataset['Valid_Day'] = dataset['valid_date_time'].dt.day\\ndataset['Valid_Hour'] = dataset['valid_date_time'].dt.hour\\ndataset['Valid_Minute'] = dataset['valid_date_time'].dt.minute\""
      ]
     },
     "execution_count": 14,
     "metadata": {},
     "output_type": "execute_result"
    }
   ],
   "source": [
    "\"\"\"#convert expire_date_time to datetime\n",
    "dataset['expire_date_time'] = pd.to_datetime(dataset['expire_date_time'], format='%d/%m/%Y %H:%M:%S')\n",
    "#date -> year, month, day, hour, minute\n",
    "dataset['Expire_Year'] = dataset['expire_date_time'].dt.year\n",
    "dataset['Expire_Month'] = dataset['expire_date_time'].dt.month\n",
    "dataset['Expire_Day'] = dataset['expire_date_time'].dt.day\n",
    "dataset['Expire_Hour'] = dataset['expire_date_time'].dt.hour\n",
    "dataset['Expire_Minute'] = dataset['expire_date_time'].dt.minute\n",
    "#convert valid_date_time to datetime\n",
    "dataset['valid_date_time'] = pd.to_datetime(dataset['valid_date_time'], format='%d/%m/%Y %H:%M:%S')\n",
    "#date -> year, month, day, hour, minute\n",
    "dataset['Valid_Year'] = dataset['valid_date_time'].dt.year\n",
    "dataset['Valid_Month'] = dataset['valid_date_time'].dt.month\n",
    "dataset['Valid_Day'] = dataset['valid_date_time'].dt.day\n",
    "dataset['Valid_Hour'] = dataset['valid_date_time'].dt.hour\n",
    "dataset['Valid_Minute'] = dataset['valid_date_time'].dt.minute\"\"\""
   ]
  },
  {
   "cell_type": "code",
   "execution_count": 6,
   "metadata": {},
   "outputs": [
    {
     "name": "stdout",
     "output_type": "stream",
     "text": [
      "Index(['Unnamed: 0', 'expire_time_gmt', 'valid_time_gmt', 'temp', 'wx_phrase',\n",
      "       'heat_index', 'rh', 'pressure', 'vis', 'wc', 'wdir', 'wspd', 'max_temp',\n",
      "       'min_temp', 'expire_date_time', 'valid_date_time'],\n",
      "      dtype='object')\n",
      "(194331, 16)\n"
     ]
    }
   ],
   "source": [
    "columns_now = dataset.columns\n",
    "print(columns_now)\n",
    "print(dataset.shape)"
   ]
  },
  {
   "cell_type": "code",
   "execution_count": 16,
   "metadata": {},
   "outputs": [
    {
     "data": {
      "text/plain": [
       "'class WeatherModel:\\n    def __init__(self,Unnamed = -1, expire_time_gmt = \"\", valid_time_gmt = \"\",temp = -1 ,wx_phase = \"\", heat_index = -1, rh = -1 , pressure = -1, vis = -1 ,wc = -1, wdir = -1, wspd = -1, max_temp = -1, min_temp = -1, expire_date_time = \"\", valid_date_time=\"\", Expire_Year = -1, Expire_Month = -1, Expire_Day = -1, Expire_Hour = -1, Expire_Minute = -1, Valid_Year = -1, Valid_Month = -1, Valid_Day = -1, Valid_Hour = -1, Valid_Minute = -1):\\n        self.Unnamed = Unnamed\\n        self.expire_time_gmt = expire_time_gmt\\n        self.valid_time_gmt = valid_time_gmt\\n        self.temp = float(temp)\\n        #self.wx_phrase = str(wx_phrase)\\n        self.heat_index = float(heat_index)\\n        self.rh = float(rh)\\n        self.pressure = float(pressure)\\n        self.vis = float(vis)\\n        self.wc = float(wc)\\n        self.wdir = float(wdir)\\n        self.expire_time_gmt = expire_time_gmt\\n        self.wspd = float(wspd)\\n        self.max_temp = float(max_temp)\\n        self.min_temp = float(min_temp)\\n        self.expire_date_time = expire_date_time\\n        self.valid_time_gmt = valid_time_gmt\\n        self.Expire_Year = int(Expire_Year)\\n        self.Expire_Month = int(Expire_Month)\\n        self.Expire_Day = int(Expire_Day)\\n        self.Expire_Hour = int(Expire_Hour)\\n        self.Expire_Minute = int(Expire_Minute)\\n        self.Valid_Year = int(Valid_Year)\\n        self.Valid_Month = int(Valid_Month)\\n        self.Valid_Day = int(Valid_Day)\\n        self.Valid_Hour = int(Valid_Hour)\\n        self.Valid_Minute = int(Valid_Minute)'"
      ]
     },
     "execution_count": 16,
     "metadata": {},
     "output_type": "execute_result"
    }
   ],
   "source": [
    "\"\"\"class WeatherModel:\n",
    "    def __init__(self,Unnamed = -1, expire_time_gmt = \"\", valid_time_gmt = \"\",temp = -1 ,wx_phase = \"\", heat_index = -1, rh = -1 , pressure = -1, vis = -1 ,wc = -1, wdir = -1, wspd = -1, max_temp = -1, min_temp = -1, expire_date_time = \"\", valid_date_time=\"\", Expire_Year = -1, Expire_Month = -1, Expire_Day = -1, Expire_Hour = -1, Expire_Minute = -1, Valid_Year = -1, Valid_Month = -1, Valid_Day = -1, Valid_Hour = -1, Valid_Minute = -1):\n",
    "        self.Unnamed = Unnamed\n",
    "        self.expire_time_gmt = expire_time_gmt\n",
    "        self.valid_time_gmt = valid_time_gmt\n",
    "        self.temp = float(temp)\n",
    "        #self.wx_phrase = str(wx_phrase)\n",
    "        self.heat_index = float(heat_index)\n",
    "        self.rh = float(rh)\n",
    "        self.pressure = float(pressure)\n",
    "        self.vis = float(vis)\n",
    "        self.wc = float(wc)\n",
    "        self.wdir = float(wdir)\n",
    "        self.expire_time_gmt = expire_time_gmt\n",
    "        self.wspd = float(wspd)\n",
    "        self.max_temp = float(max_temp)\n",
    "        self.min_temp = float(min_temp)\n",
    "        self.expire_date_time = expire_date_time\n",
    "        self.valid_time_gmt = valid_time_gmt\n",
    "        self.Expire_Year = int(Expire_Year)\n",
    "        self.Expire_Month = int(Expire_Month)\n",
    "        self.Expire_Day = int(Expire_Day)\n",
    "        self.Expire_Hour = int(Expire_Hour)\n",
    "        self.Expire_Minute = int(Expire_Minute)\n",
    "        self.Valid_Year = int(Valid_Year)\n",
    "        self.Valid_Month = int(Valid_Month)\n",
    "        self.Valid_Day = int(Valid_Day)\n",
    "        self.Valid_Hour = int(Valid_Hour)\n",
    "        self.Valid_Minute = int(Valid_Minute)\"\"\""
   ]
  },
  {
   "cell_type": "code",
   "execution_count": 17,
   "metadata": {},
   "outputs": [
    {
     "data": {
      "text/plain": [
       "\"columns_new = [ 'expire_time_gmt', 'valid_time_gmt', 'temp', 'wx_phrase',\\n        'rh', 'pressure', 'vis', 'expire_date_time', 'valid_date_time', 'Expire_Year',\\n       'Expire_Month', 'Expire_Day', 'Expire_Hour', 'Expire_Minute',\\n       'Valid_Year', 'Valid_Month', 'Valid_Day', 'Valid_Hour', 'Valid_Minute']\\ndataset = dataset[columns_new]\\n#sort dataset by expire_date_time\\ndataset = dataset.sort_values(by=['expire_date_time'])\\ncolumns_now = dataset.columns\\n# before wspd 5891\\n# before heat_index 2136\""
      ]
     },
     "execution_count": 17,
     "metadata": {},
     "output_type": "execute_result"
    }
   ],
   "source": [
    "\"\"\"columns_new = [ 'expire_time_gmt', 'valid_time_gmt', 'temp', 'wx_phrase',\n",
    "        'rh', 'pressure', 'vis', 'expire_date_time', 'valid_date_time', 'Expire_Year',\n",
    "       'Expire_Month', 'Expire_Day', 'Expire_Hour', 'Expire_Minute',\n",
    "       'Valid_Year', 'Valid_Month', 'Valid_Day', 'Valid_Hour', 'Valid_Minute']\n",
    "dataset = dataset[columns_new]\n",
    "#sort dataset by expire_date_time\n",
    "dataset = dataset.sort_values(by=['expire_date_time'])\n",
    "columns_now = dataset.columns\n",
    "# before wspd 5891\n",
    "# before heat_index 2136\"\"\""
   ]
  },
  {
   "cell_type": "code",
   "execution_count": 18,
   "metadata": {},
   "outputs": [
    {
     "data": {
      "text/plain": [
       "'for column in columns_now:\\n    print(\"before\" , column, dataset[column].isnull().sum())\\n    dataset = dataset.drop( index= dataset.loc[dataset[column].isnull()].index)\\n    dataset = dataset.reset_index(drop= True)\\n    print(\"after\", column, dataset[column].isnull().sum())'"
      ]
     },
     "execution_count": 18,
     "metadata": {},
     "output_type": "execute_result"
    }
   ],
   "source": [
    "\"\"\"for column in columns_now:\n",
    "    print(\"before\" , column, dataset[column].isnull().sum())\n",
    "    dataset = dataset.drop( index= dataset.loc[dataset[column].isnull()].index)\n",
    "    dataset = dataset.reset_index(drop= True)\n",
    "    print(\"after\", column, dataset[column].isnull().sum())\"\"\""
   ]
  },
  {
   "cell_type": "code",
   "execution_count": 7,
   "metadata": {},
   "outputs": [
    {
     "name": "stdout",
     "output_type": "stream",
     "text": [
      "(194331, 16)\n"
     ]
    },
    {
     "data": {
      "text/html": [
       "<div>\n",
       "<style scoped>\n",
       "    .dataframe tbody tr th:only-of-type {\n",
       "        vertical-align: middle;\n",
       "    }\n",
       "\n",
       "    .dataframe tbody tr th {\n",
       "        vertical-align: top;\n",
       "    }\n",
       "\n",
       "    .dataframe thead th {\n",
       "        text-align: right;\n",
       "    }\n",
       "</style>\n",
       "<table border=\"1\" class=\"dataframe\">\n",
       "  <thead>\n",
       "    <tr style=\"text-align: right;\">\n",
       "      <th></th>\n",
       "      <th>Unnamed: 0</th>\n",
       "      <th>expire_time_gmt</th>\n",
       "      <th>valid_time_gmt</th>\n",
       "      <th>temp</th>\n",
       "      <th>wx_phrase</th>\n",
       "      <th>heat_index</th>\n",
       "      <th>rh</th>\n",
       "      <th>pressure</th>\n",
       "      <th>vis</th>\n",
       "      <th>wc</th>\n",
       "      <th>wdir</th>\n",
       "      <th>wspd</th>\n",
       "      <th>max_temp</th>\n",
       "      <th>min_temp</th>\n",
       "      <th>expire_date_time</th>\n",
       "      <th>valid_date_time</th>\n",
       "    </tr>\n",
       "  </thead>\n",
       "  <tbody>\n",
       "    <tr>\n",
       "      <th>0</th>\n",
       "      <td>0</td>\n",
       "      <td>1072943580</td>\n",
       "      <td>1072936380</td>\n",
       "      <td>-1.0</td>\n",
       "      <td>Mostly Cloudy</td>\n",
       "      <td>-1.0</td>\n",
       "      <td>59.0</td>\n",
       "      <td>1003.99</td>\n",
       "      <td>16.0</td>\n",
       "      <td>-1.0</td>\n",
       "      <td>10.0</td>\n",
       "      <td>6.0</td>\n",
       "      <td>2.0</td>\n",
       "      <td>-2.0</td>\n",
       "      <td>01/01/2004 14:00:00</td>\n",
       "      <td>01/01/2004 12:00:00</td>\n",
       "    </tr>\n",
       "    <tr>\n",
       "      <th>1</th>\n",
       "      <td>1</td>\n",
       "      <td>1072947180</td>\n",
       "      <td>1072939980</td>\n",
       "      <td>-1.0</td>\n",
       "      <td>Mostly Cloudy</td>\n",
       "      <td>-1.0</td>\n",
       "      <td>61.0</td>\n",
       "      <td>1004.08</td>\n",
       "      <td>16.0</td>\n",
       "      <td>-4.0</td>\n",
       "      <td>20.0</td>\n",
       "      <td>9.0</td>\n",
       "      <td>NaN</td>\n",
       "      <td>NaN</td>\n",
       "      <td>01/01/2004 15:00:00</td>\n",
       "      <td>01/01/2004 13:00:00</td>\n",
       "    </tr>\n",
       "    <tr>\n",
       "      <th>2</th>\n",
       "      <td>2</td>\n",
       "      <td>1072950780</td>\n",
       "      <td>1072943580</td>\n",
       "      <td>-1.0</td>\n",
       "      <td>Mostly Cloudy</td>\n",
       "      <td>-1.0</td>\n",
       "      <td>57.0</td>\n",
       "      <td>1004.38</td>\n",
       "      <td>16.0</td>\n",
       "      <td>-1.0</td>\n",
       "      <td>NaN</td>\n",
       "      <td>NaN</td>\n",
       "      <td>NaN</td>\n",
       "      <td>NaN</td>\n",
       "      <td>01/01/2004 16:00:00</td>\n",
       "      <td>01/01/2004 14:00:00</td>\n",
       "    </tr>\n",
       "    <tr>\n",
       "      <th>3</th>\n",
       "      <td>3</td>\n",
       "      <td>1072954380</td>\n",
       "      <td>1072947180</td>\n",
       "      <td>-1.0</td>\n",
       "      <td>Mostly Cloudy</td>\n",
       "      <td>-1.0</td>\n",
       "      <td>64.0</td>\n",
       "      <td>1004.67</td>\n",
       "      <td>16.0</td>\n",
       "      <td>-3.0</td>\n",
       "      <td>90.0</td>\n",
       "      <td>7.0</td>\n",
       "      <td>NaN</td>\n",
       "      <td>NaN</td>\n",
       "      <td>01/01/2004 17:00:00</td>\n",
       "      <td>01/01/2004 15:00:00</td>\n",
       "    </tr>\n",
       "    <tr>\n",
       "      <th>4</th>\n",
       "      <td>4</td>\n",
       "      <td>1072957980</td>\n",
       "      <td>1072950780</td>\n",
       "      <td>-1.0</td>\n",
       "      <td>Mostly Cloudy</td>\n",
       "      <td>-1.0</td>\n",
       "      <td>69.0</td>\n",
       "      <td>1004.18</td>\n",
       "      <td>16.0</td>\n",
       "      <td>-1.0</td>\n",
       "      <td>110.0</td>\n",
       "      <td>6.0</td>\n",
       "      <td>NaN</td>\n",
       "      <td>NaN</td>\n",
       "      <td>01/01/2004 18:00:00</td>\n",
       "      <td>01/01/2004 16:00:00</td>\n",
       "    </tr>\n",
       "  </tbody>\n",
       "</table>\n",
       "</div>"
      ],
      "text/plain": [
       "   Unnamed: 0  expire_time_gmt  valid_time_gmt  temp      wx_phrase  \\\n",
       "0           0       1072943580      1072936380  -1.0  Mostly Cloudy   \n",
       "1           1       1072947180      1072939980  -1.0  Mostly Cloudy   \n",
       "2           2       1072950780      1072943580  -1.0  Mostly Cloudy   \n",
       "3           3       1072954380      1072947180  -1.0  Mostly Cloudy   \n",
       "4           4       1072957980      1072950780  -1.0  Mostly Cloudy   \n",
       "\n",
       "   heat_index    rh  pressure   vis   wc   wdir  wspd  max_temp  min_temp  \\\n",
       "0        -1.0  59.0   1003.99  16.0 -1.0   10.0   6.0       2.0      -2.0   \n",
       "1        -1.0  61.0   1004.08  16.0 -4.0   20.0   9.0       NaN       NaN   \n",
       "2        -1.0  57.0   1004.38  16.0 -1.0    NaN   NaN       NaN       NaN   \n",
       "3        -1.0  64.0   1004.67  16.0 -3.0   90.0   7.0       NaN       NaN   \n",
       "4        -1.0  69.0   1004.18  16.0 -1.0  110.0   6.0       NaN       NaN   \n",
       "\n",
       "      expire_date_time      valid_date_time  \n",
       "0  01/01/2004 14:00:00  01/01/2004 12:00:00  \n",
       "1  01/01/2004 15:00:00  01/01/2004 13:00:00  \n",
       "2  01/01/2004 16:00:00  01/01/2004 14:00:00  \n",
       "3  01/01/2004 17:00:00  01/01/2004 15:00:00  \n",
       "4  01/01/2004 18:00:00  01/01/2004 16:00:00  "
      ]
     },
     "execution_count": 7,
     "metadata": {},
     "output_type": "execute_result"
    }
   ],
   "source": [
    "print(dataset.shape)\n",
    "dataset.head()\n"
   ]
  },
  {
   "cell_type": "code",
   "execution_count": 20,
   "metadata": {},
   "outputs": [
    {
     "data": {
      "text/plain": [
       "\"#convert each column to corresponding data type in WeatherModel\\n# fix it jegula nai ogula bad dao\\ndataset['expire_time_gmt'] = dataset['expire_time_gmt'].astype(str)\\ndataset['Expire_Year'] = dataset['Expire_Year'].astype(int)\\ndataset['Expire_Month'] = dataset['Expire_Month'].astype(int)\\ndataset['Expire_Day'] = dataset['Expire_Day'].astype(int)\\ndataset['Expire_Hour'] = dataset['Expire_Hour'].astype(int)\\ndataset['Expire_Minute'] = dataset['Expire_Minute'].astype(int)\\ndataset['Valid_Year'] = dataset['Valid_Year'].astype(int)\\ndataset['Valid_Day'] = dataset['Valid_Day'].astype(int)\\ndataset['Valid_Hour'] = dataset['Valid_Hour'].astype(int)\\ndataset['Valid_Minute'] = dataset['Valid_Minute'].astype(int)\\ndataset['Valid_Month'] = dataset['Valid_Month'].astype(int)\\n#dataset['Unnamed: 0'] = dataset['Unnamed: 0'].astype(int)\\ndataset['temp'] = dataset['temp'].astype(float)\\n#dataset['heat_index'] = dataset['heat_index'].astype(float)\\ndataset['rh'] = dataset['rh'].astype(float)\\ndataset['pressure'] = dataset['pressure'].astype(float)\\ndataset['vis'] = dataset['vis'].astype(float)\\n#dataset['wc'] = dataset['wc'].astype(float)\\n#dataset['wdir'] = dataset['wdir'].astype(float)\\n#dataset['wspd'] = dataset['wspd'].astype(float)\\n#ataset['max_temp'] = dataset['max_temp'].astype(float)\\n#dataset['min_temp'] = dataset['min_temp'].astype(float)\\ndataset['expire_date_time'] = dataset['expire_date_time'].astype(str)\\ndataset['valid_date_time'] = dataset['valid_date_time'].astype(str)\\ndataset['wx_phrase'] = dataset['wx_phrase'].astype(str)\\ndataset['valid_time_gmt'] = dataset['valid_time_gmt'].astype(str)\\n\""
      ]
     },
     "execution_count": 20,
     "metadata": {},
     "output_type": "execute_result"
    }
   ],
   "source": [
    "\"\"\"#convert each column to corresponding data type in WeatherModel\n",
    "# fix it jegula nai ogula bad dao\n",
    "dataset['expire_time_gmt'] = dataset['expire_time_gmt'].astype(str)\n",
    "dataset['Expire_Year'] = dataset['Expire_Year'].astype(int)\n",
    "dataset['Expire_Month'] = dataset['Expire_Month'].astype(int)\n",
    "dataset['Expire_Day'] = dataset['Expire_Day'].astype(int)\n",
    "dataset['Expire_Hour'] = dataset['Expire_Hour'].astype(int)\n",
    "dataset['Expire_Minute'] = dataset['Expire_Minute'].astype(int)\n",
    "dataset['Valid_Year'] = dataset['Valid_Year'].astype(int)\n",
    "dataset['Valid_Day'] = dataset['Valid_Day'].astype(int)\n",
    "dataset['Valid_Hour'] = dataset['Valid_Hour'].astype(int)\n",
    "dataset['Valid_Minute'] = dataset['Valid_Minute'].astype(int)\n",
    "dataset['Valid_Month'] = dataset['Valid_Month'].astype(int)\n",
    "#dataset['Unnamed: 0'] = dataset['Unnamed: 0'].astype(int)\n",
    "dataset['temp'] = dataset['temp'].astype(float)\n",
    "#dataset['heat_index'] = dataset['heat_index'].astype(float)\n",
    "dataset['rh'] = dataset['rh'].astype(float)\n",
    "dataset['pressure'] = dataset['pressure'].astype(float)\n",
    "dataset['vis'] = dataset['vis'].astype(float)\n",
    "#dataset['wc'] = dataset['wc'].astype(float)\n",
    "#dataset['wdir'] = dataset['wdir'].astype(float)\n",
    "#dataset['wspd'] = dataset['wspd'].astype(float)\n",
    "#ataset['max_temp'] = dataset['max_temp'].astype(float)\n",
    "#dataset['min_temp'] = dataset['min_temp'].astype(float)\n",
    "dataset['expire_date_time'] = dataset['expire_date_time'].astype(str)\n",
    "dataset['valid_date_time'] = dataset['valid_date_time'].astype(str)\n",
    "dataset['wx_phrase'] = dataset['wx_phrase'].astype(str)\n",
    "dataset['valid_time_gmt'] = dataset['valid_time_gmt'].astype(str)\n",
    "\"\"\""
   ]
  },
  {
   "cell_type": "code",
   "execution_count": 21,
   "metadata": {},
   "outputs": [
    {
     "data": {
      "text/plain": [
       "'dataset.to_csv(PATH_WEAT_CHI, index= False)'"
      ]
     },
     "execution_count": 21,
     "metadata": {},
     "output_type": "execute_result"
    }
   ],
   "source": [
    "\"\"\"dataset.to_csv(PATH_WEAT_CHI, index= False)\"\"\""
   ]
  }
 ],
 "metadata": {
  "kernelspec": {
   "display_name": "base",
   "language": "python",
   "name": "python3"
  },
  "language_info": {
   "codemirror_mode": {
    "name": "ipython",
    "version": 3
   },
   "file_extension": ".py",
   "mimetype": "text/x-python",
   "name": "python",
   "nbconvert_exporter": "python",
   "pygments_lexer": "ipython3",
   "version": "3.11.5"
  },
  "orig_nbformat": 4
 },
 "nbformat": 4,
 "nbformat_minor": 2
}
