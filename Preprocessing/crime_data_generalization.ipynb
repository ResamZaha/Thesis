{
 "cells": [
  {
   "cell_type": "code",
   "execution_count": 1,
   "metadata": {},
   "outputs": [],
   "source": [
    "import pandas as pd\n",
    "from pymongo import MongoClient"
   ]
  },
  {
   "cell_type": "code",
   "execution_count": 2,
   "metadata": {},
   "outputs": [],
   "source": [
    "date_after = pd.to_datetime(\"1/1/2007  00:00:00 AM\")\n",
    "date_before = pd.to_datetime(\"1/1/2023  00:00:00 AM\")"
   ]
  },
  {
   "cell_type": "code",
   "execution_count": 3,
   "metadata": {},
   "outputs": [],
   "source": [
    "ROOTPATH = \"/Users/nuhash/Desktop/Code/Thesis/\""
   ]
  },
  {
   "cell_type": "code",
   "execution_count": 4,
   "metadata": {},
   "outputs": [],
   "source": [
    "client = MongoClient('mongodb://localhost:27017/')\n",
    "db = client['test2']"
   ]
  },
  {
   "cell_type": "code",
   "execution_count": 5,
   "metadata": {},
   "outputs": [],
   "source": [
    "crimeKeys = ['PdId', 'IncidntNum', 'Incident Code','datetime', 'Category', 'Descript', 'PdDistrict', 'Resolution', 'location']\n",
    "def crimeArrayToObject(crime):\n",
    "    return [\n",
    "        str(crime[0]), str(crime[1]), str(crime[2]), str(crime[3]), str(crime[4]), str(crime[5]), str(crime[6]), str(crime[7]) , str(crime[8])]"
   ]
  },
  {
   "cell_type": "code",
   "execution_count": 6,
   "metadata": {},
   "outputs": [],
   "source": [
    "def mapDatasetByDate(dataset):\n",
    "    mapByDate = {}\n",
    "    allData = dataset.values\n",
    "    \n",
    "    for i in allData:\n",
    "        date = str(i[3])\n",
    "\n",
    "        if date in mapByDate:\n",
    "            mapByDate[date][\"crimes\"].append(crimeArrayToObject(i))    \n",
    "        else:\n",
    "            mapByDate[date] = {\n",
    "                \"date\": date,\n",
    "                \"crimeKey\": crimeKeys,\n",
    "                \"crimes\": [crimeArrayToObject(i)]\n",
    "            }\n",
    "    return mapByDate"
   ]
  },
  {
   "cell_type": "markdown",
   "metadata": {},
   "source": [
    "# chicago crime data trimming"
   ]
  },
  {
   "cell_type": "code",
   "execution_count": null,
   "metadata": {},
   "outputs": [],
   "source": [
    "PATH_DA = ROOTPATH+\"dataset\\\\processed\\\\chicago_data_2007_2023.csv\"\n",
    "\n",
    "dataset = pd.read_csv(ROOTPATH+'dataset\\\\Crimes_-_2001_to_Present.csv')\n",
    "\n",
    "print(dataset.shape , dataset.columns)"
   ]
  },
  {
   "cell_type": "code",
   "execution_count": null,
   "metadata": {},
   "outputs": [],
   "source": [
    "# convert date to datetime\n",
    "dataset['datetime'] = pd.to_datetime(dataset['Date'], format='%m/%d/%Y %I:%M:%S %p')\n",
    "dataset = dataset.sort_values(by='datetime')\n",
    "dataset = dataset[(dataset.datetime)>=date_after]\n",
    "dataset = dataset[(dataset.datetime)<date_before]\n",
    "dataset['PdId'] = dataset[\"FBI Code\"]\n",
    "dataset['IncidntNum'] = dataset.ID\n",
    "dataset['Incident Code'] = dataset['IUCR']\n",
    "dataset['Category'] = dataset['Primary Type']\n",
    "dataset['Descript'] = dataset['Description']\n",
    "dataset['PdDistrict'] = dataset['District']\n",
    "dataset['Resolution'] = dataset['Arrest']\n",
    "dataset['location'] = dataset['Location']\n",
    "dataset = dataset[['PdId', 'IncidntNum', 'Incident Code', 'datetime', 'Category', 'Descript', \n",
    "                   'PdDistrict', 'Resolution', 'location']]\n",
    "print(dataset.shape)"
   ]
  },
  {
   "cell_type": "code",
   "execution_count": null,
   "metadata": {},
   "outputs": [],
   "source": [
    "documentData = mapDatasetByDate(dataset)"
   ]
  },
  {
   "cell_type": "code",
   "execution_count": null,
   "metadata": {},
   "outputs": [],
   "source": [
    "finalData = []\n",
    "for date in documentData:\n",
    "    finalData.append(documentData[date])"
   ]
  },
  {
   "cell_type": "code",
   "execution_count": null,
   "metadata": {},
   "outputs": [],
   "source": [
    "len(finalData)"
   ]
  },
  {
   "cell_type": "code",
   "execution_count": null,
   "metadata": {},
   "outputs": [],
   "source": [
    "collection = db['chicago.crime.filtered']\n",
    "# Convert DataFrame records to dictionary format for MongoDB insertion\n",
    "collection.insert_many(finalData)"
   ]
  },
  {
   "cell_type": "code",
   "execution_count": null,
   "metadata": {},
   "outputs": [],
   "source": [
    "del dataset\n",
    "del documentData\n",
    "del finalData"
   ]
  },
  {
   "cell_type": "code",
   "execution_count": null,
   "metadata": {},
   "outputs": [],
   "source": [
    "import gc \n",
    "print(gc.collect())"
   ]
  },
  {
   "cell_type": "markdown",
   "metadata": {},
   "source": [
    "# SF CRIME data trimming"
   ]
  },
  {
   "cell_type": "code",
   "execution_count": null,
   "metadata": {},
   "outputs": [],
   "source": [
    "PATH_SF_PROCESSED = ROOTPATH+\"dataset\\\\processed\\\\sf_data_2007_2023.csv\"\n",
    "\n",
    "dataset_new = pd.read_csv(ROOTPATH+'dataset\\\\Police_Department_Incident_Reports__2018_to_Present.csv')\n",
    "dataset_old = pd.read_csv(ROOTPATH+'dataset\\\\Police_Department_Incident_Reports__Historical_2003_to_May_2018.csv')\n",
    "\n",
    "print(dataset_new.columns, dataset_new.size)\n",
    "print(dataset_old.columns, dataset_old.size)"
   ]
  },
  {
   "cell_type": "code",
   "execution_count": null,
   "metadata": {},
   "outputs": [],
   "source": [
    "print(dataset_new['Resolution'].unique(),\n",
    "dataset_old['Resolution'].unique())"
   ]
  },
  {
   "cell_type": "code",
   "execution_count": null,
   "metadata": {},
   "outputs": [],
   "source": [
    "date_after = pd.to_datetime(\"1/1/2007  00:00:00 AM\")\n",
    "date_before = pd.to_datetime(\"1/1/2023  00:00:00 AM\")\n",
    "# 2023/03/13 11:41:00 PM\n",
    "dataset_new['datetime'] = pd.to_datetime(dataset_new['Incident Datetime'], format='%Y/%m/%d %I:%M:%S %p')\n",
    "# convert resolution to boolean\n",
    "dataset_new['Resolution'] = dataset_new['Resolution'].apply(lambda x: True if (x == 'Cite or Arrest Adult' or x=='Exceptional Adult' or x=='Arrest') else False)\n",
    "dataset_new = dataset_new.sort_values(by = ['datetime'])\n",
    "\n",
    "dataset_new['PdId'] = dataset_new['Row ID']\n",
    "dataset_new['IncidntNum'] = dataset_new['Incident Number']\n",
    "dataset_new['Category'] = dataset_new['Incident Category']\n",
    "dataset_new['Descript'] = dataset_new['Incident Description']\n",
    "dataset_new['PdDistrict'] = dataset_new['Police District']\n",
    "dataset_new['Resolution'] = dataset_new['Resolution']\n",
    "dataset_new['location'] = dataset_new['Point']\n",
    "\n",
    "dataset_new = dataset_new[crimeKeys]"
   ]
  },
  {
   "cell_type": "code",
   "execution_count": null,
   "metadata": {},
   "outputs": [],
   "source": [
    "arrested = ['ARREST, BOOKED', 'ARREST, CITED',\n",
    "            'NOT PROSECUTED',\n",
    "            'PROSECUTED BY OUTSIDE AGENCY',\n",
    "            'DISTRICT ATTORNEY REFUSES TO PROSECUTE',\n",
    "            'COMPLAINANT REFUSES TO PROSECUTE',\n",
    "            'EXCEPTIONAL CLEARANCE', 'PROSECUTED FOR LESSER OFFENSE']\n",
    "\n",
    "def isArrest(x):\n",
    "    if x in arrested:\n",
    "        return True\n",
    "    else:\n",
    "        return False\n",
    "    \n",
    "dataset_old['datetime'] = pd.to_datetime(dataset_old['Date']+' '+dataset_old['Time'], format='%m/%d/%Y %H:%M')\n",
    "dataset_old = dataset_old.sort_values(by = ['datetime'])\n",
    "# convert resolution to boolean\n",
    "dataset_old['Resolution'] = dataset_old['Resolution'].apply(lambda x: isArrest(x))\n",
    "dataset_old = dataset_old[crimeKeys]\n"
   ]
  },
  {
   "cell_type": "code",
   "execution_count": null,
   "metadata": {},
   "outputs": [],
   "source": [
    "df = pd.concat([dataset_old, dataset_new], ignore_index=True)\n",
    "print(df.shape)\n",
    "df = df[(df.datetime)>=date_after]\n",
    "df = df[(df.datetime)<date_before]\n",
    "df = df.sort_values(by = ['datetime'])"
   ]
  },
  {
   "cell_type": "code",
   "execution_count": null,
   "metadata": {},
   "outputs": [],
   "source": [
    "\n",
    "documentData = mapDatasetByDate(df)\n",
    "finalData = []\n",
    "for date in documentData:\n",
    "    finalData.append(documentData[date])\n",
    "\n",
    "print(len(finalData))\n",
    "\n"
   ]
  },
  {
   "cell_type": "code",
   "execution_count": null,
   "metadata": {},
   "outputs": [],
   "source": [
    "collection = db['sf.crime.filtered']\n",
    "collection.insert_many(finalData)"
   ]
  },
  {
   "cell_type": "code",
   "execution_count": null,
   "metadata": {},
   "outputs": [],
   "source": [
    "del df\n",
    "del dataset_old\n",
    "del dataset_new\n",
    "del documentData\n",
    "del finalData"
   ]
  },
  {
   "cell_type": "markdown",
   "metadata": {},
   "source": [
    "# Philly Crime trim"
   ]
  },
  {
   "cell_type": "code",
   "execution_count": 9,
   "metadata": {},
   "outputs": [
    {
     "name": "stderr",
     "output_type": "stream",
     "text": [
      "/var/folders/jq/f31p5js52f51prlhxvhddy2w0000gn/T/ipykernel_12013/361677048.py:3: DtypeWarning: Columns (15,17) have mixed types. Specify dtype option on import or set low_memory=False.\n",
      "  dataset = pd.read_csv(ROOTPATH+'dataset/philly_2006_2023.csv')\n"
     ]
    }
   ],
   "source": [
    "PATH_PHILLY_PROCESSED = ROOTPATH+\"dataset\\\\processed\\\\philly_data_2007_2023.csv\"\n",
    "\n",
    "dataset = pd.read_csv(ROOTPATH+'dataset/philly_2006_2023.csv')"
   ]
  },
  {
   "cell_type": "code",
   "execution_count": 10,
   "metadata": {},
   "outputs": [
    {
     "name": "stdout",
     "output_type": "stream",
     "text": [
      "(3175805, 18) Index(['objectid', 'dc_dist', 'psa', 'dispatch_date_time', 'dispatch_date',\n",
      "       'dispatch_time', 'hour', 'dc_key', 'location_block', 'ucr_general',\n",
      "       'text_general_code', 'point_x', 'point_y', 'lat', 'lng', 'the_geom',\n",
      "       'cartodb_id', 'the_geom_webmercator'],\n",
      "      dtype='object')\n"
     ]
    },
    {
     "data": {
      "text/html": [
       "<div>\n",
       "<style scoped>\n",
       "    .dataframe tbody tr th:only-of-type {\n",
       "        vertical-align: middle;\n",
       "    }\n",
       "\n",
       "    .dataframe tbody tr th {\n",
       "        vertical-align: top;\n",
       "    }\n",
       "\n",
       "    .dataframe thead th {\n",
       "        text-align: right;\n",
       "    }\n",
       "</style>\n",
       "<table border=\"1\" class=\"dataframe\">\n",
       "  <thead>\n",
       "    <tr style=\"text-align: right;\">\n",
       "      <th></th>\n",
       "      <th>objectid</th>\n",
       "      <th>dc_dist</th>\n",
       "      <th>psa</th>\n",
       "      <th>dispatch_date_time</th>\n",
       "      <th>dispatch_date</th>\n",
       "      <th>dispatch_time</th>\n",
       "      <th>hour</th>\n",
       "      <th>dc_key</th>\n",
       "      <th>location_block</th>\n",
       "      <th>ucr_general</th>\n",
       "      <th>text_general_code</th>\n",
       "      <th>point_x</th>\n",
       "      <th>point_y</th>\n",
       "      <th>lat</th>\n",
       "      <th>lng</th>\n",
       "      <th>the_geom</th>\n",
       "      <th>cartodb_id</th>\n",
       "      <th>the_geom_webmercator</th>\n",
       "    </tr>\n",
       "  </thead>\n",
       "  <tbody>\n",
       "    <tr>\n",
       "      <th>784762</th>\n",
       "      <td>1548035</td>\n",
       "      <td>3</td>\n",
       "      <td>K</td>\n",
       "      <td>2009-09-09 12:10:00</td>\n",
       "      <td>2009-09-09</td>\n",
       "      <td>08:10:00</td>\n",
       "      <td>8.0</td>\n",
       "      <td>2.009030e+11</td>\n",
       "      <td>1100 BLOCK ELLSWORTH ST</td>\n",
       "      <td>1400</td>\n",
       "      <td>Vandalism/Criminal Mischief</td>\n",
       "      <td>-75.163323</td>\n",
       "      <td>39.936124</td>\n",
       "      <td>39.936124</td>\n",
       "      <td>-75.163323</td>\n",
       "      <td>NaN</td>\n",
       "      <td>NaN</td>\n",
       "      <td>NaN</td>\n",
       "    </tr>\n",
       "    <tr>\n",
       "      <th>286299</th>\n",
       "      <td>1934599</td>\n",
       "      <td>6</td>\n",
       "      <td>I</td>\n",
       "      <td>2007-04-25 01:45:00</td>\n",
       "      <td>2007-04-24</td>\n",
       "      <td>21:45:00</td>\n",
       "      <td>21.0</td>\n",
       "      <td>2.007060e+11</td>\n",
       "      <td>900 BLOCK MARKET ST</td>\n",
       "      <td>1400</td>\n",
       "      <td>Vandalism/Criminal Mischief</td>\n",
       "      <td>-75.155162</td>\n",
       "      <td>39.951334</td>\n",
       "      <td>39.951334</td>\n",
       "      <td>-75.155162</td>\n",
       "      <td>NaN</td>\n",
       "      <td>NaN</td>\n",
       "      <td>NaN</td>\n",
       "    </tr>\n",
       "    <tr>\n",
       "      <th>941968</th>\n",
       "      <td>2182632</td>\n",
       "      <td>26</td>\n",
       "      <td>2</td>\n",
       "      <td>2010-07-09 17:50:00</td>\n",
       "      <td>2010-07-09</td>\n",
       "      <td>13:50:00</td>\n",
       "      <td>13.0</td>\n",
       "      <td>2.010260e+11</td>\n",
       "      <td>1900 BLOCK N 05TH ST</td>\n",
       "      <td>1400</td>\n",
       "      <td>Vandalism/Criminal Mischief</td>\n",
       "      <td>-75.142549</td>\n",
       "      <td>39.981354</td>\n",
       "      <td>39.981354</td>\n",
       "      <td>-75.142549</td>\n",
       "      <td>NaN</td>\n",
       "      <td>NaN</td>\n",
       "      <td>NaN</td>\n",
       "    </tr>\n",
       "    <tr>\n",
       "      <th>993633</th>\n",
       "      <td>2184528</td>\n",
       "      <td>22</td>\n",
       "      <td>4</td>\n",
       "      <td>2010-10-07 18:22:00</td>\n",
       "      <td>2010-10-07</td>\n",
       "      <td>14:22:00</td>\n",
       "      <td>14.0</td>\n",
       "      <td>2.010221e+11</td>\n",
       "      <td>1200 BLOCK N HOLLYWOOD ST</td>\n",
       "      <td>1800</td>\n",
       "      <td>Narcotic / Drug Law Violations</td>\n",
       "      <td>-75.183925</td>\n",
       "      <td>39.975357</td>\n",
       "      <td>39.975357</td>\n",
       "      <td>-75.183925</td>\n",
       "      <td>NaN</td>\n",
       "      <td>NaN</td>\n",
       "      <td>NaN</td>\n",
       "    </tr>\n",
       "    <tr>\n",
       "      <th>1928293</th>\n",
       "      <td>103081</td>\n",
       "      <td>12</td>\n",
       "      <td>4</td>\n",
       "      <td>2015-11-10 01:16:00</td>\n",
       "      <td>2015-11-09</td>\n",
       "      <td>20:16:00</td>\n",
       "      <td>20.0</td>\n",
       "      <td>2.015121e+11</td>\n",
       "      <td>5100 BLOCK REGENT ST D</td>\n",
       "      <td>300</td>\n",
       "      <td>Robbery No Firearm</td>\n",
       "      <td>-75.218403</td>\n",
       "      <td>39.941867</td>\n",
       "      <td>39.941867</td>\n",
       "      <td>-75.218403</td>\n",
       "      <td>NaN</td>\n",
       "      <td>NaN</td>\n",
       "      <td>NaN</td>\n",
       "    </tr>\n",
       "  </tbody>\n",
       "</table>\n",
       "</div>"
      ],
      "text/plain": [
       "         objectid  dc_dist psa   dispatch_date_time dispatch_date  \\\n",
       "784762    1548035        3   K  2009-09-09 12:10:00    2009-09-09   \n",
       "286299    1934599        6   I  2007-04-25 01:45:00    2007-04-24   \n",
       "941968    2182632       26   2  2010-07-09 17:50:00    2010-07-09   \n",
       "993633    2184528       22   4  2010-10-07 18:22:00    2010-10-07   \n",
       "1928293    103081       12   4  2015-11-10 01:16:00    2015-11-09   \n",
       "\n",
       "        dispatch_time  hour        dc_key             location_block  \\\n",
       "784762       08:10:00   8.0  2.009030e+11    1100 BLOCK ELLSWORTH ST   \n",
       "286299       21:45:00  21.0  2.007060e+11        900 BLOCK MARKET ST   \n",
       "941968       13:50:00  13.0  2.010260e+11       1900 BLOCK N 05TH ST   \n",
       "993633       14:22:00  14.0  2.010221e+11  1200 BLOCK N HOLLYWOOD ST   \n",
       "1928293      20:16:00  20.0  2.015121e+11     5100 BLOCK REGENT ST D   \n",
       "\n",
       "         ucr_general               text_general_code    point_x    point_y  \\\n",
       "784762          1400     Vandalism/Criminal Mischief -75.163323  39.936124   \n",
       "286299          1400     Vandalism/Criminal Mischief -75.155162  39.951334   \n",
       "941968          1400     Vandalism/Criminal Mischief -75.142549  39.981354   \n",
       "993633          1800  Narcotic / Drug Law Violations -75.183925  39.975357   \n",
       "1928293          300              Robbery No Firearm -75.218403  39.941867   \n",
       "\n",
       "               lat        lng the_geom  cartodb_id the_geom_webmercator  \n",
       "784762   39.936124 -75.163323      NaN         NaN                  NaN  \n",
       "286299   39.951334 -75.155162      NaN         NaN                  NaN  \n",
       "941968   39.981354 -75.142549      NaN         NaN                  NaN  \n",
       "993633   39.975357 -75.183925      NaN         NaN                  NaN  \n",
       "1928293  39.941867 -75.218403      NaN         NaN                  NaN  "
      ]
     },
     "execution_count": 10,
     "metadata": {},
     "output_type": "execute_result"
    }
   ],
   "source": [
    "print(dataset.shape , dataset.columns)\n",
    "dataset.sample(5)"
   ]
  },
  {
   "cell_type": "code",
   "execution_count": 12,
   "metadata": {},
   "outputs": [
    {
     "name": "stdout",
     "output_type": "stream",
     "text": [
      "1629165   2014-03-27 05:52:00\n",
      "326582    2007-06-29 14:10:00\n",
      "1496878   2013-06-18 01:42:00\n",
      "2444609   2019-02-19 20:05:00\n",
      "2340874   2018-06-19 00:03:00\n",
      "Name: datetime, dtype: datetime64[ns]\n"
     ]
    }
   ],
   "source": [
    "\n",
    "# convert date to datetime\n",
    "# 2010-10-21 05:14:00+00\n",
    "dataset['datetime'] = pd.to_datetime(dataset['dispatch_date_time'])\n",
    "# remove timezone\n",
    "dataset['datetime'] = dataset['datetime'].dt.tz_localize(None)\n",
    "print(dataset['datetime'].sample(5))\n"
   ]
  },
  {
   "cell_type": "code",
   "execution_count": 13,
   "metadata": {},
   "outputs": [
    {
     "name": "stdout",
     "output_type": "stream",
     "text": [
      "(2783525, 9)\n"
     ]
    }
   ],
   "source": [
    "\n",
    "dataset = dataset.sort_values(by='datetime')\n",
    "\n",
    "date_after = pd.to_datetime(\"2007-01-01 00:00:00\")\n",
    "date_before = pd.to_datetime(\"2023-01-01 00:00:00\")\n",
    "\n",
    "dataset = dataset[(dataset.datetime)>=date_after]\n",
    "dataset = dataset[(dataset.datetime)<date_before]\n",
    "\n",
    "dataset['PdId'] = dataset[\"dc_dist\"]\n",
    "dataset['IncidntNum'] = dataset[\"objectid\"]\n",
    "dataset['Incident Code'] = dataset['ucr_general']\n",
    "dataset['Category'] = dataset['text_general_code']\n",
    "dataset['Descript'] = dataset['text_general_code']\n",
    "dataset['PdDistrict'] = dataset['dc_dist']\n",
    "dataset['location'] = dataset['point_x'].astype(str) + ',' + dataset['point_y'].astype(str)\n",
    "dataset['Resolution'] = dataset['dispatch_date_time'].apply(lambda x: True)\n",
    "\n",
    "dataset = dataset[crimeKeys]\n",
    "\n",
    "print(dataset.shape)\n"
   ]
  },
  {
   "cell_type": "code",
   "execution_count": 14,
   "metadata": {},
   "outputs": [
    {
     "name": "stdout",
     "output_type": "stream",
     "text": [
      "2224543\n"
     ]
    }
   ],
   "source": [
    "documentData = mapDatasetByDate(dataset)\n",
    "finalData = []\n",
    "for date in documentData:\n",
    "    finalData.append(documentData[date])\n",
    "\n",
    "print(len(finalData))\n"
   ]
  },
  {
   "cell_type": "code",
   "execution_count": 15,
   "metadata": {},
   "outputs": [],
   "source": [
    "collection = db['philly.crime.filtered']\n",
    "\n",
    "collection.insert_many(finalData)"
   ]
  },
  {
   "cell_type": "code",
   "execution_count": null,
   "metadata": {},
   "outputs": [],
   "source": [
    "del dataset\n",
    "del documentData\n",
    "del finalData"
   ]
  },
  {
   "cell_type": "code",
   "execution_count": null,
   "metadata": {},
   "outputs": [],
   "source": [
    "queryDate = pd.to_datetime(\"1/1/2010\")\n",
    "\n",
    "#Find crimes after 2010 in chicago, sf and philly\n",
    "chicago = db['chicago.crime.filtered']\n",
    "sf = db['sf.crime.filtered']\n",
    "philly = db['philly.crime.filtered']\n",
    "\n",
    "# convert date to mongodb date \n",
    "# check if date >= queryDate and date < queryDate + 1\n",
    "query = {\n",
    "    \"date\": {\n",
    "        \"$gte\": str(queryDate),\n",
    "        \"$lt\": str(queryDate + pd.DateOffset(days=1))\n",
    "    }\n",
    "}\n",
    "print(query)\n",
    "\n",
    "chicagoData = chicago.find(query)\n",
    "sfData = sf.find(query)\n",
    "phillyData = philly.find(query)\n"
   ]
  },
  {
   "cell_type": "code",
   "execution_count": null,
   "metadata": {},
   "outputs": [],
   "source": [
    "crimeKeys"
   ]
  },
  {
   "cell_type": "code",
   "execution_count": null,
   "metadata": {},
   "outputs": [],
   "source": [
    "#create a dataframe from the cursor\n",
    "data = []\n",
    "for i in chicagoData:\n",
    "    data.extend(i['crimes'])\n",
    "\n",
    "print(len(data))\n",
    "for i in sfData:\n",
    "    data.extend(i['crimes'])\n",
    "print(len(data))\n",
    "for i in phillyData:\n",
    "    data.extend(i['crimes'])\n",
    "print(len(data))\n",
    "\n",
    "df = pd.DataFrame(data, columns=crimeKeys)\n",
    "df['datetime'] = pd.to_datetime(df['datetime'])\n",
    "df = df.sort_values(by='datetime')\n",
    "print(df.shape)"
   ]
  },
  {
   "cell_type": "code",
   "execution_count": null,
   "metadata": {},
   "outputs": [],
   "source": [
    "df['datetime'].unique()"
   ]
  }
 ],
 "metadata": {
  "kernelspec": {
   "display_name": "base",
   "language": "python",
   "name": "python3"
  },
  "language_info": {
   "codemirror_mode": {
    "name": "ipython",
    "version": 3
   },
   "file_extension": ".py",
   "mimetype": "text/x-python",
   "name": "python",
   "nbconvert_exporter": "python",
   "pygments_lexer": "ipython3",
   "version": "3.1.0"
  }
 },
 "nbformat": 4,
 "nbformat_minor": 2
}
