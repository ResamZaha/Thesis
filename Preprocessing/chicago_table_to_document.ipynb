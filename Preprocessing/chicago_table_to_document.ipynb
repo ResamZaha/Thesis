{
 "cells": [
  {
   "cell_type": "code",
   "execution_count": null,
   "metadata": {},
   "outputs": [],
   "source": [
    "# For data processing\n",
    "\n",
    "# For data processing and manipulation\n",
    "import pandas as pd\n",
    "\n",
    " \n",
    "import matplotlib.pyplot as plt\n",
    "\n",
    "%matplotlib inline\n",
    "\n",
    "\n",
    " "
   ]
  },
  {
   "cell_type": "code",
   "execution_count": null,
   "metadata": {},
   "outputs": [],
   "source": [
    "plt.rcParams['font.family'] = 'serif'\n",
    "plt.rcParams['font.serif'] = ['Times New Roman'] + plt.rcParams['font.serif']\n"
   ]
  },
  {
   "cell_type": "code",
   "execution_count": null,
   "metadata": {},
   "outputs": [],
   "source": [
    "DATABASE_URL = \"http://127.0.0.1:5000/\"\n",
    "\n",
    "ROOTPATH = '/Users/toufiqueimam/Desktop/other-codes/Thesis/'\n",
    "PATH_IMAGE = ROOTPATH+'images_chicago'\n",
    "PATH_DA = ROOTPATH+\"dataset/chicago_data_for_da.csv\"\n",
    "PATH_PDA = ROOTPATH+\"dataset/chicago_data_chicago_for_police_da.csv\"\n"
   ]
  },
  {
   "cell_type": "code",
   "execution_count": null,
   "metadata": {},
   "outputs": [],
   "source": [
    "date_after = pd.to_datetime(\"1/1/2004  00:00:00 AM\")\n",
    "date_before = pd.to_datetime(\"1/1/2018  00:00:00 AM\")\n"
   ]
  },
  {
   "cell_type": "code",
   "execution_count": null,
   "metadata": {},
   "outputs": [],
   "source": [
    "dataset = pd.read_csv(ROOTPATH+'dataset/Crimes_-_2001_to_Present.csv')\n"
   ]
  },
  {
   "cell_type": "code",
   "execution_count": null,
   "metadata": {},
   "outputs": [],
   "source": [
    "print(dataset.shape)\n",
    "columns = dataset.columns\n",
    "#filtered_columns = [\"ID\", \"Case Number\", \"Date\", \"IUCR\", \"Primary Type\", \"Description\",\n",
    " #                   \"Location Description\", \"Arrest\", \"District\", \"X Coordinate\", \"Y Coordinate\", \"Year\"]\n",
    "#dataset = dataset[filtered_columns]\n",
    "dataset.head()\n"
   ]
  },
  {
   "cell_type": "code",
   "execution_count": null,
   "metadata": {},
   "outputs": [],
   "source": [
    "# convert date to datetime\n",
    "dataset['Date'] = pd.to_datetime(\n",
    "    dataset['Date'], format='%m/%d/%Y %I:%M:%S %p')"
   ]
  },
  {
   "cell_type": "code",
   "execution_count": null,
   "metadata": {},
   "outputs": [],
   "source": [
    "print(columns)"
   ]
  },
  {
   "cell_type": "code",
   "execution_count": null,
   "metadata": {},
   "outputs": [],
   "source": [
    "dataset.head()"
   ]
  },
  {
   "cell_type": "code",
   "execution_count": null,
   "metadata": {},
   "outputs": [],
   "source": [
    "allData = dataset.values\n",
    "\n",
    "for i in allData:\n",
    "    print(i)\n",
    "    break"
   ]
  },
  {
   "cell_type": "code",
   "execution_count": null,
   "metadata": {},
   "outputs": [],
   "source": [
    "def mapDatasetByDate(dataset):\n",
    "    mapByDate = {}\n",
    "    for index, row in dataset.iterrows():\n",
    "        print(index, row)\n",
    "        row['Date'] = str(row['Date'])\n",
    "        mapByDate[row['Date']] = row.to_dict()\n",
    "        break\n",
    "    return mapByDate\n",
    "\n",
    "res = mapDatasetByDate(dataset)\n",
    "\n",
    "\n",
    "import json\n",
    "with open('temp.json', 'w') as outfile:\n",
    "    json.dump(res, outfile)"
   ]
  },
  {
   "cell_type": "markdown",
   "metadata": {},
   "source": [
    "## Grouped by date"
   ]
  },
  {
   "cell_type": "code",
   "execution_count": null,
   "metadata": {},
   "outputs": [],
   "source": [
    "mapByDate = {}\n",
    "def crimeArrayToObject(crime):\n",
    "    return {\n",
    "        \"id\": crime[0],\n",
    "        \"caseNumber\": crime[1],\n",
    "        \"date\": str(crime[2]),\n",
    "        \"block\": crime[3],\n",
    "        \"iucr\": crime[4],\n",
    "        \"primaryType\": crime[5],\n",
    "        \"description\": crime[6],\n",
    "        \"locationDescription\": crime[7],\n",
    "        \"arrest\": crime[8],\n",
    "        \"domestic\": crime[9],\n",
    "        \"beat\": crime[10],\n",
    "        \"district\": crime[11],\n",
    "        # \"ward\": crime[12],\n",
    "        # \"communityArea\": crime[13],\n",
    "        \"fbiCode\": crime[14],\n",
    "        # \"xCoordinate\": crime[15],\n",
    "        # \"yCoordinate\": crime[16],\n",
    "        \"year\": crime[17],\n",
    "        \"updatedOn\": crime[18],\n",
    "        # \"latitude\": crime[19],\n",
    "        # \"longitude\": crime[20],\n",
    "        # \"location\": crime[21]\n",
    "    }\n",
    "\n",
    "for i in allData:\n",
    "    date = i[2].date().strftime('%Y-%m-%d')\n",
    "\n",
    "    if date in mapByDate:\n",
    "        mapByDate[date][\"crimes\"].append(crimeArrayToObject(i))\n",
    "    else:\n",
    "        mapByDate[date] = {\n",
    "            \"date\": date,\n",
    "            \"crimes\": [crimeArrayToObject(i)]\n",
    "        }\n",
    "\n",
    "import json\n",
    "with open('data_chicago_date.json', 'w') as outfile:\n",
    "    json.dump(mapByDate, outfile)"
   ]
  },
  {
   "cell_type": "markdown",
   "metadata": {},
   "source": [
    "# Grouped by date and time"
   ]
  },
  {
   "cell_type": "code",
   "execution_count": null,
   "metadata": {},
   "outputs": [],
   "source": [
    "mapByDate = {}\n",
    "def crimeArrayToObject(crime):\n",
    "    return {\n",
    "        \"id\": crime[0],\n",
    "        \"caseNumber\": crime[1],\n",
    "        \"date\": str(crime[2]),\n",
    "        \"block\": crime[3],\n",
    "        \"iucr\": crime[4],\n",
    "        \"primaryType\": crime[5],\n",
    "        \"description\": crime[6],\n",
    "        \"locationDescription\": crime[7],\n",
    "        \"arrest\": crime[8],\n",
    "        \"domestic\": crime[9],\n",
    "        \"beat\": crime[10],\n",
    "        \"district\": crime[11],\n",
    "        # \"ward\": crime[12],\n",
    "        # \"communityArea\": crime[13],\n",
    "        \"fbiCode\": crime[14],\n",
    "        # \"xCoordinate\": crime[15],\n",
    "        # \"yCoordinate\": crime[16],\n",
    "        \"year\": crime[17],\n",
    "        \"updatedOn\": crime[18],\n",
    "        # \"latitude\": crime[19],\n",
    "        # \"longitude\": crime[20],\n",
    "        # \"location\": crime[21]\n",
    "    }\n",
    "\n",
    "\n",
    "for i in allData:\n",
    "    date = str(i[2])\n",
    "\n",
    "    if date in mapByDate:\n",
    "        mapByDate[date][\"crimes\"].append(crimeArrayToObject(i))\n",
    "    else:\n",
    "        mapByDate[date] = {\n",
    "            \"date\": date,\n",
    "            \"crimes\": [crimeArrayToObject(i)]\n",
    "        }\n",
    "\n",
    "import json\n",
    "with open('data_chicago_date_time.json', 'w') as outfile:\n",
    "    json.dump(mapByDate, outfile)"
   ]
  }
 ],
 "metadata": {
  "kernelspec": {
   "display_name": "base",
   "language": "python",
   "name": "python3"
  },
  "language_info": {
   "codemirror_mode": {
    "name": "ipython",
    "version": 3
   },
   "file_extension": ".py",
   "mimetype": "text/x-python",
   "name": "python",
   "nbconvert_exporter": "python",
   "pygments_lexer": "ipython3",
   "version": "3.11.4"
  }
 },
 "nbformat": 4,
 "nbformat_minor": 2
}
